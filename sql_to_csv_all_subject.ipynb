{
 "cells": [
  {
   "cell_type": "markdown",
   "id": "packed-trademark",
   "metadata": {},
   "source": [
    "# SQL to CSV "
   ]
  },
  {
   "cell_type": "markdown",
   "id": "pacific-ranking",
   "metadata": {},
   "source": [
    "### The selection of key columns to extract junction_aa sequence data along with the accompanying clinical factors."
   ]
  },
  {
   "cell_type": "markdown",
   "id": "closed-possibility",
   "metadata": {},
   "source": [
    "This code will be run for each subject and looped from the papermill pipeline notebook.\n",
    "\n",
    "Using the papermill pipeline, this code will be looped to generate dataframes for each subject."
   ]
  },
  {
   "cell_type": "code",
   "execution_count": 1,
   "id": "ordered-tuesday",
   "metadata": {},
   "outputs": [],
   "source": [
    "# load needed libraries\n",
    "import sqlite3\n",
    "import os\n",
    "import pandas as pd"
   ]
  },
  {
   "cell_type": "code",
   "execution_count": 2,
   "id": "necessary-shade",
   "metadata": {
    "tags": [
     "parameters"
    ]
   },
   "outputs": [],
   "source": [
    "#This sets the parameters for papermill to this notebook.\n",
    "alpha = 0.6\n",
    "ratio = 0.1"
   ]
  },
  {
   "cell_type": "code",
   "execution_count": 4,
   "id": "noticed-nashville",
   "metadata": {},
   "outputs": [],
   "source": [
    "#Connects to local DB instance - created from running /extract_to_sql/create_sqlitedb.sh \n",
    "#This shell script indexed the input tables for fast querying of the data.\n",
    "def connect():\n",
    "    '''function to return SQLite connection\n",
    "    '''\n",
    "    # create connection object representing database\n",
    "    # point to local db (DB Path)\n",
    "    return(sqlite3.connect('/media/teamcovidtest/PNY512/fdacovid3.db') )"
   ]
  },
  {
   "cell_type": "code",
   "execution_count": 5,
   "id": "adverse-swedish",
   "metadata": {},
   "outputs": [],
   "source": [
    "conn = connect() #Creates connection to SQLite DB."
   ]
  },
  {
   "cell_type": "code",
   "execution_count": 6,
   "id": "rural-insurance",
   "metadata": {},
   "outputs": [],
   "source": [
    "#Reads subject identifiers from metadata file.\n",
    "#This is read to prepare the data for R notebook analysis by subject_id.\n",
    "subject = pd.read_csv(\"metadata.csv\")['subject_id']"
   ]
  },
  {
   "cell_type": "code",
   "execution_count": 7,
   "id": "endangered-nerve",
   "metadata": {},
   "outputs": [],
   "source": [
    "#Assembling the query by joining the input tables on the sample_processing_id column.\n",
    "query = '''SELECT sequence_id, junction_aa, \\n\n",
    "seqtable.sample_processing_id, metadata.subject_id\n",
    "FROM seqtable \\n\n",
    "INNER JOIN metadata on metadata.sample_processing_id = seqtable.sample_processing_id \\n\n",
    "WHERE subject_id = (?)\n",
    "'''"
   ]
  },
  {
   "cell_type": "code",
   "execution_count": 8,
   "id": "metallic-adapter",
   "metadata": {},
   "outputs": [],
   "source": [
    "#The creation of a pandas dataframe from the database.\n",
    "def getdata_subject( query , subject_order):\n",
    "    ''' function takes input: \n",
    "                            query : SQL query,\n",
    "                            and two binding parameters in query string: disease_stage, num_rows   \n",
    "    '''\n",
    "    \n",
    "    df = pd.read_sql_query(query,\n",
    "                           connect(),\n",
    "                           params = [subject[subject_order]], )\n",
    "    return(df)"
   ]
  },
  {
   "cell_type": "code",
   "execution_count": 9,
   "id": "working-appeal",
   "metadata": {},
   "outputs": [],
   "source": [
    "#Calls iterator subject_order using the magic notation and from the papermill pipeline.\n",
    "%store -r subject_order"
   ]
  },
  {
   "cell_type": "code",
   "execution_count": 10,
   "id": "supreme-audience",
   "metadata": {
    "tags": [
     "parameter"
    ]
   },
   "outputs": [],
   "source": [
    "#Calling getdata_subject function from papermill using subject_order as the binding parameter to get the dataframe of a specific subject.\n",
    "df_subject = getdata_subject(query, subject_order ) \n"
   ]
  },
  {
   "cell_type": "code",
   "execution_count": 11,
   "id": "plastic-night",
   "metadata": {},
   "outputs": [],
   "source": [
    "df_subject.to_csv(\"output/df_subject.csv\")"
   ]
  }
 ],
 "metadata": {
  "celltoolbar": "Tags",
  "kernelspec": {
   "display_name": "Python 3",
   "language": "python",
   "name": "python3"
  },
  "language_info": {
   "codemirror_mode": {
    "name": "ipython",
    "version": 3
   },
   "file_extension": ".py",
   "mimetype": "text/x-python",
   "name": "python",
   "nbconvert_exporter": "python",
   "pygments_lexer": "ipython3",
   "version": "3.8.5"
  }
 },
 "nbformat": 4,
 "nbformat_minor": 5
}

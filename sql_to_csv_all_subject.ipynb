{
 "cells": [
  {
   "cell_type": "code",
   "execution_count": 1,
   "id": "ordered-tuesday",
   "metadata": {},
   "outputs": [],
   "source": [
    "# load needed libraries\n",
    "import sqlite3\n",
    "import os\n",
    "import pandas as pd"
   ]
  },
  {
   "cell_type": "code",
   "execution_count": 2,
   "id": "necessary-shade",
   "metadata": {
    "tags": [
     "parameters"
    ]
   },
   "outputs": [],
   "source": [
    "alpha = 0.6\n",
    "ratio = 0.1"
   ]
  },
  {
   "cell_type": "code",
   "execution_count": 3,
   "id": "hawaiian-synthesis",
   "metadata": {},
   "outputs": [],
   "source": [
    "subject_order = 2"
   ]
  },
  {
   "cell_type": "code",
   "execution_count": 4,
   "id": "noticed-nashville",
   "metadata": {},
   "outputs": [],
   "source": [
    "def connect():\n",
    "    '''function to return SQLite connection\n",
    "    '''\n",
    "    # create connection object representing database\n",
    "    # point to local db (DB Path)\n",
    "    return(sqlite3.connect('/media/teamcovid/ForData/fdacovid3.db') )"
   ]
  },
  {
   "cell_type": "code",
   "execution_count": 5,
   "id": "adverse-swedish",
   "metadata": {},
   "outputs": [],
   "source": [
    "conn = connect()"
   ]
  },
  {
   "cell_type": "code",
   "execution_count": 6,
   "id": "rural-insurance",
   "metadata": {},
   "outputs": [],
   "source": [
    "unique_subject = pd.read_csv(\"metadata.csv\")['subject_id']"
   ]
  },
  {
   "cell_type": "code",
   "execution_count": 7,
   "id": "endangered-nerve",
   "metadata": {},
   "outputs": [],
   "source": [
    "query = '''SELECT sequence_id, junction_aa, \\n\n",
    "seqtable.sample_processing_id, metadata.subject_id\n",
    "FROM seqtable \\n\n",
    "INNER JOIN metadata on metadata.sample_processing_id = seqtable.sample_processing_id \\n\n",
    "WHERE subject_id = (?)\n",
    "'''"
   ]
  },
  {
   "cell_type": "code",
   "execution_count": 8,
   "id": "metallic-adapter",
   "metadata": {},
   "outputs": [],
   "source": [
    "# This creates a pandas dataframe from the database\n",
    "# You will need to make a  place holder for column name and number of records\n",
    "def getdata_subject( query , subject_order):\n",
    "    ''' function takes input: \n",
    "                            query : SQL query,\n",
    "                            and two binding parameters in query string: disease_stage, num_rows   \n",
    "    '''\n",
    "    \n",
    "    df = pd.read_sql_query(query,\n",
    "                           connect(),\n",
    "                           params = [unique_subject[subject_order]], )\n",
    "    return(df)"
   ]
  },
  {
   "cell_type": "code",
   "execution_count": 9,
   "id": "working-appeal",
   "metadata": {},
   "outputs": [],
   "source": [
    "%store -r subject_order"
   ]
  },
  {
   "cell_type": "code",
   "execution_count": 10,
   "id": "supreme-audience",
   "metadata": {
    "tags": [
     "parameter"
    ]
   },
   "outputs": [],
   "source": [
    " df_subject = getdata_subject(query, subject_order ) # Recovered"
   ]
  },
  {
   "cell_type": "code",
   "execution_count": 11,
   "id": "plastic-night",
   "metadata": {},
   "outputs": [],
   "source": [
    "#df_name = './output/df_subject' + str(subject_order) +'.csv'\n",
    "\n",
    "df_subject.to_csv(\"df_subject.csv\")"
   ]
  },
  {
   "cell_type": "code",
   "execution_count": 12,
   "id": "nearby-likelihood",
   "metadata": {},
   "outputs": [
    {
     "data": {
      "text/plain": [
       "'/home/teamcovid/Documents/Projects/notebooks'"
      ]
     },
     "execution_count": 12,
     "metadata": {},
     "output_type": "execute_result"
    }
   ],
   "source": [
    "os.getcwd()"
   ]
  }
 ],
 "metadata": {
  "celltoolbar": "Tags",
  "kernelspec": {
   "display_name": "Python 3",
   "language": "python",
   "name": "python3"
  },
  "language_info": {
   "codemirror_mode": {
    "name": "ipython",
    "version": 3
   },
   "file_extension": ".py",
   "mimetype": "text/x-python",
   "name": "python",
   "nbconvert_exporter": "python",
   "pygments_lexer": "ipython3",
   "version": "3.8.5"
  }
 },
 "nbformat": 4,
 "nbformat_minor": 5
}

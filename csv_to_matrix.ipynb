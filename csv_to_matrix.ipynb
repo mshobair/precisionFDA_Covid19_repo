{
 "cells": [
  {
   "cell_type": "code",
   "execution_count": 1,
   "metadata": {},
   "outputs": [],
   "source": [
    "# load data.table for data manipulation\n",
    "library(data.table)\n",
    "library(universalmotif)"
   ]
  },
  {
   "cell_type": "code",
   "execution_count": 2,
   "metadata": {
    "tags": [
     "parameters"
    ]
   },
   "outputs": [],
   "source": [
    "#This sets the parameters for papermill to this notebook.\n",
    "alpha = 0.6\n",
    "ratio = 0.1"
   ]
  },
  {
   "cell_type": "markdown",
   "metadata": {},
   "source": [
    "# Selecting a specific length of the junction_aa."
   ]
  },
  {
   "cell_type": "code",
   "execution_count": 3,
   "metadata": {},
   "outputs": [],
   "source": [
    "junction_aa_length <- 15"
   ]
  },
  {
   "cell_type": "code",
   "execution_count": 4,
   "metadata": {},
   "outputs": [
    {
     "ename": "ERROR",
     "evalue": "Error in fread(\"df_subject.csv\", header = T): File 'df_subject.csv' does not exist or is non-readable. getwd()=='/home/teamcovid/Documents/Projects/notebooks'\n",
     "output_type": "error",
     "traceback": [
      "Error in fread(\"df_subject.csv\", header = T): File 'df_subject.csv' does not exist or is non-readable. getwd()=='/home/teamcovid/Documents/Projects/notebooks'\nTraceback:\n",
      "1. fread(\"df_subject.csv\", header = T)",
      "2. stop(\"File '\", file, \"' does not exist or is non-readable. getwd()=='\", \n .     getwd(), \"'\")"
     ]
    }
   ],
   "source": [
    "dt <- fread(\"output/df_subject.csv\", header = T)"
   ]
  },
  {
   "cell_type": "code",
   "execution_count": null,
   "metadata": {},
   "outputs": [],
   "source": [
    "clean_df <- function(df){\n",
    "    # Input : dataframe with specific disease_stage\n",
    "    setDT(df)  \n",
    "    cleaned_df <- df[\n",
    "        junction_aa!=\"\", ][ # remove blank sequences\n",
    "        !grepl(pattern = \"\\\\*\",junction_aa) ] # remove sequences with asterisks\n",
    "\n",
    "    return(cleaned_df)\n",
    "             }"
   ]
  },
  {
   "cell_type": "code",
   "execution_count": null,
   "metadata": {},
   "outputs": [],
   "source": [
    "df1_cleaned = clean_df(dt) # creating instance of Baseline table"
   ]
  },
  {
   "cell_type": "code",
   "execution_count": null,
   "metadata": {},
   "outputs": [],
   "source": [
    "# get junction_aa column from selected dataframe\n",
    "select_junction_aa <- function(selected_df){\n",
    "           \n",
    "        #    input : \"junction_aa\" cleaned dataframe\n",
    "        #    ouput : junction_aa\n",
    "    seq <- selected_df$junction_aa[]  \n",
    "    }"
   ]
  },
  {
   "cell_type": "code",
   "execution_count": null,
   "metadata": {},
   "outputs": [],
   "source": [
    "junction_aa_1 <- select_junction_aa(df1_cleaned)"
   ]
  },
  {
   "cell_type": "code",
   "execution_count": null,
   "metadata": {},
   "outputs": [],
   "source": [
    "# subset junction_aa column of specific length\n",
    "select_len <- function(junction_aa, len){\n",
    "           \n",
    "        #    input : \"junction_aa\" cleaned sequence, len length\n",
    "        #    ouput : junction_aa with specific length\n",
    "    seq <- junction_aa[nchar(junction_aa) == len] \n",
    "    return(seq)\n",
    "    }"
   ]
  },
  {
   "cell_type": "code",
   "execution_count": null,
   "metadata": {},
   "outputs": [],
   "source": [
    "seq1 <- select_len(junction_aa_1, junction_aa_length)"
   ]
  },
  {
   "cell_type": "code",
   "execution_count": null,
   "metadata": {},
   "outputs": [],
   "source": [
    "create_pcm <- function(seq_len ){\n",
    "    # input sequence of a specific length\n",
    "    # ouput motif image\n",
    "    \n",
    "        convert_type(\n",
    "            create_motif(\n",
    "                seq1, alphabet = \"AA\")\n",
    "         , type = \"PCM\")\n",
    "    }"
   ]
  },
  {
   "cell_type": "code",
   "execution_count": null,
   "metadata": {},
   "outputs": [],
   "source": [
    "pcm = create_pcm(seq1)"
   ]
  },
  {
   "cell_type": "code",
   "execution_count": null,
   "metadata": {},
   "outputs": [],
   "source": [
    "# create motif using universalmotif\n",
    "#Converting PCM to matrices\n",
    "# to temp file to read using motifStack for visualziation \n",
    "write_matrix(pcm, './output/PCM2', overwrite = TRUE, rownames = TRUE, header = FALSE)\n",
    "write_motifs(pcm, './output/PCM_motif2', overwrite = TRUE)"
   ]
  }
 ],
 "metadata": {
  "celltoolbar": "Tags",
  "kernelspec": {
   "display_name": "R",
   "language": "R",
   "name": "ir"
  },
  "language_info": {
   "codemirror_mode": "r",
   "file_extension": ".r",
   "mimetype": "text/x-r-source",
   "name": "R",
   "pygments_lexer": "r",
   "version": "3.6.3"
  }
 },
 "nbformat": 4,
 "nbformat_minor": 4
}

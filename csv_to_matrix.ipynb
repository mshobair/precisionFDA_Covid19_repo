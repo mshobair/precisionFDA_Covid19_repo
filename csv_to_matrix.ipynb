{
 "cells": [
  {
   "cell_type": "code",
   "execution_count": 1,
   "metadata": {},
   "outputs": [],
   "source": [
    "# load RSQLite to read the Transformed data\n",
    "library(data.table)"
   ]
  },
  {
   "cell_type": "code",
   "execution_count": 2,
   "metadata": {
    "tags": [
     "parameters"
    ]
   },
   "outputs": [],
   "source": [
    "alpha = 0.6\n",
    "ratio = 0.1"
   ]
  },
  {
   "cell_type": "code",
   "execution_count": 3,
   "metadata": {},
   "outputs": [],
   "source": [
    "junction_aa_length <- 15"
   ]
  },
  {
   "cell_type": "code",
   "execution_count": 4,
   "metadata": {},
   "outputs": [
    {
     "ename": "ERROR",
     "evalue": "Error in fread(\"df_subject.csv\", header = T): File 'df_subject.csv' does not exist or is non-readable. getwd()=='/home/teamcovid/Documents/Projects/notebooks'\n",
     "output_type": "error",
     "traceback": [
      "Error in fread(\"df_subject.csv\", header = T): File 'df_subject.csv' does not exist or is non-readable. getwd()=='/home/teamcovid/Documents/Projects/notebooks'\nTraceback:\n",
      "1. fread(\"df_subject.csv\", header = T)",
      "2. stop(\"File '\", file, \"' does not exist or is non-readable. getwd()=='\", \n .     getwd(), \"'\")"
     ]
    }
   ],
   "source": [
    "dt <- fread(\"df_subject.csv\", header = T)"
   ]
  },
  {
   "cell_type": "code",
   "execution_count": null,
   "metadata": {},
   "outputs": [],
   "source": [
    "clean_df <- function(df){\n",
    "    # Input : dataframe with specific disease_stage\n",
    "    setDT(df)  \n",
    "    cleaned_df <- df[\n",
    "        junction_aa!=\"\", ][ # remove blank sequences\n",
    "        !grepl(pattern = \"\\\\*\",junction_aa) ] # remove sequences with asterisks\n",
    "\n",
    "    return(cleaned_df)\n",
    "             }"
   ]
  },
  {
   "cell_type": "code",
   "execution_count": null,
   "metadata": {},
   "outputs": [],
   "source": [
    "df1_cleaned = clean_df(dt) # creating instance of Baseline table"
   ]
  },
  {
   "cell_type": "code",
   "execution_count": null,
   "metadata": {},
   "outputs": [],
   "source": [
    "# get junction_aa column from selected dataframe\n",
    "select_junction_aa <- function(selected_df){\n",
    "           \n",
    "        #    input : \"junction_aa\" cleaned dataframe\n",
    "        #    ouput : junction_aa\n",
    "    seq <- selected_df$junction_aa[]  \n",
    "    }"
   ]
  },
  {
   "cell_type": "code",
   "execution_count": null,
   "metadata": {},
   "outputs": [],
   "source": [
    "junction_aa_1 <- select_junction_aa(df1_cleaned)"
   ]
  },
  {
   "cell_type": "code",
   "execution_count": null,
   "metadata": {},
   "outputs": [],
   "source": [
    "# subset junction_aa column of specific length\n",
    "select_len <- function(junction_aa, len){\n",
    "           \n",
    "        #    input : \"junction_aa\" cleaned sequence, len length\n",
    "        #    ouput : junction_aa with specific length\n",
    "    seq <- junction_aa[nchar(junction_aa) == len] \n",
    "    return(seq)\n",
    "    }"
   ]
  },
  {
   "cell_type": "code",
   "execution_count": null,
   "metadata": {},
   "outputs": [],
   "source": [
    "seq1 <- select_len(junction_aa_1, junction_aa_length)"
   ]
  },
  {
   "cell_type": "code",
   "execution_count": null,
   "metadata": {},
   "outputs": [],
   "source": [
    "library(universalmotif)"
   ]
  },
  {
   "cell_type": "code",
   "execution_count": null,
   "metadata": {},
   "outputs": [],
   "source": [
    "create_pcm <- function(seq_len ){\n",
    "    # input sequence of a specific length\n",
    "    # ouput motif image\n",
    "    \n",
    "        convert_type(\n",
    "            create_motif(\n",
    "                seq1, alphabet = \"AA\")\n",
    "         , type = \"PCM\")\n",
    "    }"
   ]
  },
  {
   "cell_type": "code",
   "execution_count": null,
   "metadata": {},
   "outputs": [],
   "source": [
    "pcm = create_pcm(seq1)"
   ]
  },
  {
   "cell_type": "code",
   "execution_count": null,
   "metadata": {},
   "outputs": [],
   "source": [
    "library(yaml)"
   ]
  },
  {
   "cell_type": "markdown",
   "metadata": {},
   "source": [
    "Converting PCM to matrices"
   ]
  },
  {
   "cell_type": "code",
   "execution_count": null,
   "metadata": {},
   "outputs": [],
   "source": [
    "# create motif using universalmotif\n",
    "# to temp file to read using motifStack for visualziation \n",
    "write_matrix(pcm, 'PCM2', overwrite = TRUE, rownames = TRUE, header = FALSE)\n",
    "write_motifs(pcm, 'PCM_motif2', overwrite = TRUE)\n",
    "# convert \n",
    "PCM_table2 <- read.table(\"PCM2\", header = FALSE, row.names = 1)\n",
    "motif_con2 <- read_yaml('PCM_motif2')[8]\n",
    "names(PCM_table2) <- strsplit(motif_con2[[1]], split = \"\")[[1]]\n",
    "#names(PCM_table) <- 2:156\n",
    "pcm_mat2 = as.matrix(PCM_table2)\n",
    "write.csv(pcm_mat2, \"./output/pcm_mat2_mill.csv\")"
   ]
  }
 ],
 "metadata": {
  "celltoolbar": "Tags",
  "kernelspec": {
   "display_name": "R",
   "language": "R",
   "name": "ir"
  },
  "language_info": {
   "codemirror_mode": "r",
   "file_extension": ".r",
   "mimetype": "text/x-r-source",
   "name": "R",
   "pygments_lexer": "r",
   "version": "3.6.3"
  }
 },
 "nbformat": 4,
 "nbformat_minor": 4
}

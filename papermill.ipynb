{
 "cells": [
  {
   "cell_type": "markdown",
   "id": "instructional-broad",
   "metadata": {},
   "source": [
    "# Papermill Pipeline"
   ]
  },
  {
   "cell_type": "markdown",
   "id": "dynamic-brother",
   "metadata": {},
   "source": [
    "### Executes the sql_to_csv notebook - which generates data for the next module.  \n",
    "#### In this example we are creating the motif matrices for junction_aa. "
   ]
  },
  {
   "cell_type": "code",
   "execution_count": 1,
   "id": "instrumental-maryland",
   "metadata": {},
   "outputs": [],
   "source": [
    "import papermill as pm\n",
    "import os"
   ]
  },
  {
   "cell_type": "code",
   "execution_count": 2,
   "id": "yellow-baltimore",
   "metadata": {},
   "outputs": [
    {
     "name": "stdout",
     "output_type": "stream",
     "text": [
      "Stored 'subject_order' (int)\n"
     ]
    },
    {
     "data": {
      "application/json": {
       "ascii": false,
       "bar_format": null,
       "colour": null,
       "elapsed": 0.05468606948852539,
       "initial": 0,
       "n": 0,
       "ncols": null,
       "nrows": null,
       "postfix": null,
       "prefix": "Executing",
       "rate": null,
       "total": 14,
       "unit": "cell",
       "unit_divisor": 1000,
       "unit_scale": false
      },
      "application/vnd.jupyter.widget-view+json": {
       "model_id": "02918b357b0a47ac8dcf9f968dc6a569",
       "version_major": 2,
       "version_minor": 0
      },
      "text/plain": [
       "Executing:   0%|          | 0/14 [00:00<?, ?cell/s]"
      ]
     },
     "metadata": {},
     "output_type": "display_data"
    },
    {
     "data": {
      "application/json": {
       "ascii": false,
       "bar_format": null,
       "colour": null,
       "elapsed": 0.029700279235839844,
       "initial": 0,
       "n": 0,
       "ncols": null,
       "nrows": null,
       "postfix": null,
       "prefix": "Executing",
       "rate": null,
       "total": 17,
       "unit": "cell",
       "unit_divisor": 1000,
       "unit_scale": false
      },
      "application/vnd.jupyter.widget-view+json": {
       "model_id": "774e25e1403c48f5b972a3e318c2f21b",
       "version_major": 2,
       "version_minor": 0
      },
      "text/plain": [
       "Executing:   0%|          | 0/17 [00:00<?, ?cell/s]"
      ]
     },
     "metadata": {},
     "output_type": "display_data"
    }
   ],
   "source": [
    "for subject_order in range(282, 0, -1):#Iterating through the subject_id \n",
    "                                     #[282 is the last subject_id instances (there are 283 subject_id instances)]\n",
    "                                     #Due to the way Python handles integers the starting index is 0\n",
    "    \n",
    "    #Stores the instance of subject_order to be called in the execution of sql_two_notebook\n",
    "    %store subject_order\n",
    "         \n",
    "    #Executes the sql_to_csv notebook\n",
    "    pm.execute_notebook(\n",
    "    'notebooks/sql_to_csv_all_subject.ipynb',\n",
    "    'output/output.ipynb',\n",
    "    parameters=dict(alpha=0.6, ratio=0.1))\n",
    "    \n",
    "    #Executes R notebook using the output of the previous step\n",
    "    pm.execute_notebook(\n",
    "    'notebooks/csv_to_matrix.ipynb',\n",
    "    'output/output.ipynb',\n",
    "    parameters=dict(alpha=0.6, ratio=0.1))\n",
    "    \n",
    "    #Overwriting the temporary matrices created from the previous step\n",
    "    command1 = 'mv PCM2 output/PCM2_' + str(subject_order)  \n",
    "    command2 = 'mv PCM_motif2 output/PCM2_motif2_' + str(subject_order) \n",
    "    # moving data\n",
    "    #command3 = 'mv PCM_* ./output' \n",
    "\n",
    "    \n",
    "    #Execution of above bash commands\n",
    "    os.system(command1)\n",
    "    os.system(command2)   \n",
    "   # os.system(command3)\n",
    "    "
   ]
  }
 ],
 "metadata": {
  "kernelspec": {
   "display_name": "Python 3",
   "language": "python",
   "name": "python3"
  },
  "language_info": {
   "codemirror_mode": {
    "name": "ipython",
    "version": 3
   },
   "file_extension": ".py",
   "mimetype": "text/x-python",
   "name": "python",
   "nbconvert_exporter": "python",
   "pygments_lexer": "ipython3",
   "version": "3.8.5"
  }
 },
 "nbformat": 4,
 "nbformat_minor": 5
}

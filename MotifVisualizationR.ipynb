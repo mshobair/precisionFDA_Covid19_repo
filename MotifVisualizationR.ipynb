{
 "cells": [
  {
   "cell_type": "markdown",
   "metadata": {},
   "source": [
    "# Loading data to visualize and compare sequence motifs between Baseline and Acute subjects"
   ]
  },
  {
   "cell_type": "code",
   "execution_count": 107,
   "metadata": {},
   "outputs": [],
   "source": [
    "# load RSQLite to read the Transformed data\n",
    "library(RSQLite)\n",
    "library(data.table)\n",
    "library(sqldf)"
   ]
  },
  {
   "cell_type": "markdown",
   "metadata": {},
   "source": [
    "## Loading tables of junction_aa sequence data grouped by disease_stage"
   ]
  },
  {
   "cell_type": "code",
   "execution_count": 113,
   "metadata": {},
   "outputs": [],
   "source": [
    "# connection to the SQLite database with queried tables\n",
    "seq_db_path = 'disease_stage.db'\n",
    "conn <- dbConnect(RSQLite::SQLite(), seq_db_path)"
   ]
  },
  {
   "cell_type": "code",
   "execution_count": 114,
   "metadata": {},
   "outputs": [],
   "source": [
    "# get extracted tables by disease_stage\n",
    "query_1 = 'SELECT * FROM tb1'\n",
    "query_2 = 'SELECT * FROM tb2'"
   ]
  },
  {
   "cell_type": "markdown",
   "metadata": {},
   "source": [
    "## Please enter value for junction_aa_length for visualization. See below the distribution of all values with a mode ~15."
   ]
  },
  {
   "cell_type": "code",
   "execution_count": 115,
   "metadata": {},
   "outputs": [],
   "source": [
    "junction_aa_length <- 15"
   ]
  },
  {
   "cell_type": "code",
   "execution_count": 116,
   "metadata": {},
   "outputs": [],
   "source": [
    "# reloading datatables from the SQLite database\n",
    "\n",
    "getdfRows <- function(conn, query_rows){\n",
    "    \n",
    "    conn <- dbConnect( # connection to SQLite database queried tables (Baseline and Acute)\n",
    "        RSQLite::SQLite(), seq_db_path) \n",
    "    df = dbGetQuery(conn,query_rows) # saving the queried tables as dataframes \n",
    "    return(df)\n",
    "}"
   ]
  },
  {
   "cell_type": "markdown",
   "metadata": {},
   "source": [
    "Generate dataframe instance"
   ]
  },
  {
   "cell_type": "code",
   "execution_count": 117,
   "metadata": {},
   "outputs": [],
   "source": [
    "df1 = getdfRows(conn, query_1) # creating instance of Baseline table\n",
    "df2 = getdfRows(conn, query_2) # creating instance of Acute table"
   ]
  },
  {
   "cell_type": "code",
   "execution_count": 118,
   "metadata": {},
   "outputs": [],
   "source": [
    "# delete the tables from the temporary connected SQLite database\n",
    "dbRemoveTable(conn, \"tb1\", fail_if_missing = FALSE)\n",
    "dbRemoveTable(conn, \"tb2\", fail_if_missing = FALSE)"
   ]
  },
  {
   "cell_type": "markdown",
   "metadata": {},
   "source": [
    "Clean data"
   ]
  },
  {
   "cell_type": "code",
   "execution_count": 119,
   "metadata": {},
   "outputs": [],
   "source": [
    "clean_df <- function(df){\n",
    "    # Input : dataframe with specific disease_stage\n",
    "    setDT(df)  \n",
    "    cleaned_df <- df[\n",
    "        junction_aa!=\"\", ][ # remove blank sequences\n",
    "        !grepl(pattern = \"\\\\*\",junction_aa) ] # remove sequences with asterisks\n",
    "\n",
    "    return(cleaned_df)\n",
    "             }"
   ]
  },
  {
   "cell_type": "code",
   "execution_count": 120,
   "metadata": {},
   "outputs": [],
   "source": [
    "df1_cleaned = clean_df(df1) # creating instance of Baseline table\n",
    "df2_cleaned = clean_df(df2) # creating instance of Acute table"
   ]
  },
  {
   "cell_type": "markdown",
   "metadata": {},
   "source": [
    "Select data"
   ]
  },
  {
   "cell_type": "markdown",
   "metadata": {},
   "source": [
    "Select junction_aa of specific length"
   ]
  },
  {
   "cell_type": "code",
   "execution_count": 121,
   "metadata": {},
   "outputs": [],
   "source": [
    "# get junction_aa column from selected dataframe\n",
    "select_junction_aa <- function(selected_df){\n",
    "           \n",
    "        #    input : \"junction_aa\" cleaned dataframe\n",
    "        #    ouput : junction_aa\n",
    "    seq <- selected_df$junction_aa  \n",
    "    }"
   ]
  },
  {
   "cell_type": "code",
   "execution_count": 122,
   "metadata": {},
   "outputs": [],
   "source": [
    "junction_aa_1 <- select_junction_aa(df1_cleaned)\n",
    "junction_aa_2 <- select_junction_aa(df2_cleaned)"
   ]
  },
  {
   "cell_type": "markdown",
   "metadata": {},
   "source": [
    "### plot distribution of junction_aa length\n"
   ]
  },
  {
   "cell_type": "code",
   "execution_count": 124,
   "metadata": {},
   "outputs": [],
   "source": [
    "plot_hist <- function(junction_aa_1, junction_aa_2){\n",
    "    \n",
    "if (\n",
    "    (length(junction_aa_2) != 0) &\n",
    "    (length(junction_aa_1) != 0) &\n",
    "    (length(unique(nchar(junction_aa_1))) > 1)& \n",
    "    (length(unique(nchar(junction_aa_2))) > 1)\n",
    "    )\n",
    "{\n",
    "    \n",
    "    par(mfrow = c(1,2))\n",
    "    hist(nchar(junction_aa_1)\n",
    "    ,   main = \"Group 1\",\n",
    "    ,   xlab = \"length of junction_aa\",\n",
    "    ,   ylab = \"sequences_count\")\n",
    "    hist(nchar(junction_aa_2)\n",
    "    ,   main = \"Group 2\",\n",
    "    ,   xlab = \"length of junction_aa\",\n",
    "    ,   ylab = \"sequences_count\")\n",
    "}   else{\n",
    "        print(\"One of the sequence group is empty or one group is of same length, perhaps check your query in sqlite_df_fn3.ipynb notebook\")\n",
    "        print(paste0(\"Number of unique values for length of junction_aa in group1 is \",length(unique(nchar(junction_aa_1)) )))\n",
    "        print(paste0(\"Number of unique values for length of junction_aa in group2 is \",length(unique(nchar(junction_aa_1)) )))\n",
    "\n",
    "}\n",
    "    }"
   ]
  },
  {
   "cell_type": "code",
   "execution_count": 125,
   "metadata": {},
   "outputs": [
    {
     "data": {
      "image/png": "[encoded data removed]",
      "text/plain": [
       "Plot with title “Group 2”"
      ]
     },
     "metadata": {
      "image/png": {
       "height": 420,
       "width": 420
      }
     },
     "output_type": "display_data"
    }
   ],
   "source": [
    "plot_hist(junction_aa_1, junction_aa_2)"
   ]
  },
  {
   "cell_type": "markdown",
   "metadata": {},
   "source": [
    "Select subset of junction_aa with specific length"
   ]
  },
  {
   "cell_type": "code",
   "execution_count": 126,
   "metadata": {},
   "outputs": [],
   "source": [
    "# subset junction_aa column of specific length\n",
    "select_len <- function(junction_aa, len){\n",
    "           \n",
    "        #    input : \"junction_aa\" cleaned sequence, len length\n",
    "        #    ouput : junction_aa with specific length\n",
    "    seq <- junction_aa[nchar(junction_aa) == len] \n",
    "    return(seq)\n",
    "    }"
   ]
  },
  {
   "cell_type": "markdown",
   "metadata": {},
   "source": [
    "### pick sequences with length 15"
   ]
  },
  {
   "cell_type": "code",
   "execution_count": 127,
   "metadata": {},
   "outputs": [],
   "source": [
    "seq1 <- select_len(junction_aa_1, junction_aa_length)\n",
    "seq2 <- select_len(junction_aa_2, junction_aa_length)"
   ]
  },
  {
   "cell_type": "markdown",
   "metadata": {},
   "source": [
    "# Data Analysis"
   ]
  },
  {
   "cell_type": "code",
   "execution_count": 28,
   "metadata": {},
   "outputs": [
    {
     "name": "stderr",
     "output_type": "stream",
     "text": [
      "Registered S3 method overwritten by 'treeio':\n",
      "  method     from\n",
      "  root.phylo ape \n",
      "\n"
     ]
    }
   ],
   "source": [
    "library(universalmotif)"
   ]
  },
  {
   "cell_type": "markdown",
   "metadata": {},
   "source": [
    "Visualize junction_aa as sequence motif"
   ]
  },
  {
   "cell_type": "code",
   "execution_count": 128,
   "metadata": {},
   "outputs": [],
   "source": [
    "visualize_motif <- function(seq_len ){\n",
    "    # input sequence of a specific length\n",
    "    # ouput motif image\n",
    "    view_motifs(\n",
    "        convert_type(\n",
    "            create_motif(\n",
    "                seq_len, alphabet = \"AA\"),\n",
    "         , type = \"PCM\"))\n",
    "    }"
   ]
  },
  {
   "cell_type": "markdown",
   "metadata": {},
   "source": [
    "VISUALIZE \n",
    "\n",
    "**BASELINE** MOTIFS"
   ]
  },
  {
   "cell_type": "code",
   "execution_count": 129,
   "metadata": {},
   "outputs": [
    {
     "data": {
      "image/png": "[encoded data removed]",
      "text/plain": [
       "plot without title"
      ]
     },
     "metadata": {
      "image/png": {
       "height": 420,
       "width": 420
      }
     },
     "output_type": "display_data"
    }
   ],
   "source": [
    "visualize_motif(seq1)"
   ]
  },
  {
   "cell_type": "markdown",
   "metadata": {},
   "source": [
    "VISUALIZE \n",
    "\n",
    "**Acute** MOTIFS"
   ]
  },
  {
   "cell_type": "code",
   "execution_count": 130,
   "metadata": {},
   "outputs": [
    {
     "data": {
      "image/png": "[encoded data removed]",
      "text/plain": [
       "plot without title"
      ]
     },
     "metadata": {
      "image/png": {
       "height": 420,
       "width": 420
      }
     },
     "output_type": "display_data"
    }
   ],
   "source": [
    "visualize_motif(seq2)"
   ]
  },
  {
   "cell_type": "markdown",
   "metadata": {},
   "source": [
    "# Summary \n",
    "Position 1-4 ; conserved\n",
    "Position 5: conserved\n",
    "Position 11-13 variable"
   ]
  },
  {
   "cell_type": "code",
   "execution_count": 33,
   "metadata": {
    "collapsed": true
   },
   "outputs": [
    {
     "name": "stderr",
     "output_type": "stream",
     "text": [
      "Loading required package: cba\n",
      "\n",
      "Loading required package: grid\n",
      "\n",
      "Loading required package: proxy\n",
      "\n",
      "\n",
      "Attaching package: ‘proxy’\n",
      "\n",
      "\n",
      "The following objects are masked from ‘package:stats’:\n",
      "\n",
      "    as.dist, dist\n",
      "\n",
      "\n",
      "The following object is masked from ‘package:base’:\n",
      "\n",
      "    as.matrix\n",
      "\n",
      "\n"
     ]
    }
   ],
   "source": [
    "library(DiffLogo)"
   ]
  },
  {
   "cell_type": "markdown",
   "metadata": {},
   "source": [
    "# Use DiffLogo to compare the motifs "
   ]
  },
  {
   "cell_type": "code",
   "execution_count": 131,
   "metadata": {},
   "outputs": [],
   "source": [
    "motif <- create_motif(\n",
    "                seq1, alphabet = \"AA\")\n",
    "pwm <- convert_type(motif, type = \"PWM\")\n"
   ]
  },
  {
   "cell_type": "code",
   "execution_count": 132,
   "metadata": {},
   "outputs": [
    {
     "data": {
      "text/plain": [
       "\n",
       "       Motif name:   motif\n",
       "         Alphabet:   AA\n",
       "             Type:   PWM\n",
       "         Total IC:   31.89\n",
       "        Consensus:   CASSLGGGGNYEQYF\n",
       "     Target sites:   20229\n",
       "\n",
       "      C     A     S     S     L     G     G     G     G     N     Y     E     Q\n",
       "A  -Inf  4.12  1.23  0.22 -0.54  0.75  0.79  0.94  0.35  0.59 -3.25 -4.59  0.44\n",
       "C  4.32  -Inf -7.98 -3.19  -Inf -9.98 -6.28  -Inf -7.98 -7.98 -9.98  -Inf -9.98\n",
       "D  -Inf  -Inf  -Inf -4.98  0.05  0.08 -0.37 -0.13  0.29 -0.81  1.14 -7.66 -7.17\n",
       "E  -Inf  -Inf  -Inf -1.91  0.51 -0.14 -0.91 -0.68 -0.26 -2.21  0.62  3.36 -6.28\n",
       "F  -Inf  -Inf  -Inf -7.17 -0.35 -2.11 -2.46 -2.73 -1.17 -2.18 -4.46 -5.59  -Inf\n",
       "G  -Inf -9.98 -4.46 -1.77 -0.49  2.14  2.55  3.06  2.71  1.29  1.08  0.68 -9.98\n",
       "H  -Inf  -Inf -7.40 -4.49 -2.44 -3.24 -3.31 -2.76 -2.30 -1.95 -2.23  -Inf -8.98\n",
       "I  -Inf  -Inf -1.73 -3.02 -0.97 -1.84 -1.53 -2.45 -1.60 -1.72 -4.66 -3.20 -0.54\n",
       "K  -Inf  -Inf  -Inf -2.16 -1.81 -2.31 -2.37 -3.34 -2.30 -2.85 -6.17 -0.51 -8.98\n",
       "L -9.98  -Inf -5.08 -4.25  2.19  0.68  0.36 -0.55 -0.09 -0.72 -2.81 -6.28  2.04\n",
       "M  -Inf  -Inf -8.40 -5.28 -1.86 -2.88 -3.83 -3.10 -1.83 -3.10 -5.66 -9.98  -Inf\n",
       "N  -Inf  -Inf -9.98 -2.78 -2.94 -1.42 -2.99 -3.10 -0.54  2.13  1.90  -Inf  -Inf\n",
       "P  -Inf  -Inf  -Inf -3.52  1.21  0.09  0.10 -1.36 -0.31 -0.37 -3.72  1.80 -9.98\n",
       "Q  -Inf  -Inf  -Inf -3.98  0.92  0.85  0.71  0.17 -1.51 -1.23  1.22 -7.66  3.61\n",
       "R  -Inf -7.40 -4.98  0.68  0.40  0.64  0.69  0.45 -0.34 -1.31 -3.68 -5.23 -5.23\n",
       "S -7.40  1.39  3.98  3.90  0.61  0.82  0.81  0.68  1.46  1.25  0.40 -5.03  -Inf\n",
       "T  -Inf  -Inf -0.21 -0.40 -0.60  0.53  0.95  0.36 -0.01  1.50  0.32  1.63  -Inf\n",
       "V  -Inf  -Inf -1.51 -4.17 -0.50 -0.15 -1.04 -0.59 -0.31 -0.64 -3.56 -0.77 -9.98\n",
       "W  -Inf  -Inf -1.81 -8.40 -2.21 -1.66 -2.20 -3.25 -2.75 -1.91 -6.28 -6.66 -7.98\n",
       "Y -9.98  -Inf -9.98 -7.66 -0.39 -2.77 -3.44 -2.41 -1.43  0.62  2.23 -9.98  0.67\n",
       "      Y     F\n",
       "A  -Inf  -Inf\n",
       "C  -Inf  -Inf\n",
       "D  -Inf  -Inf\n",
       "E  -Inf  -Inf\n",
       "F  2.79  4.32\n",
       "G  -Inf  -Inf\n",
       "H  1.81  -Inf\n",
       "I  -Inf  -Inf\n",
       "K  -Inf  -Inf\n",
       "L -9.98  -Inf\n",
       "M  -Inf  -Inf\n",
       "N -9.98  -Inf\n",
       "P  -Inf -9.98\n",
       "Q  -Inf  -Inf\n",
       "R  -Inf  -Inf\n",
       "S -9.98  -Inf\n",
       "T  1.13  -Inf\n",
       "V  -Inf  -Inf\n",
       "W  -Inf  -Inf\n",
       "Y  2.89  -Inf"
      ]
     },
     "metadata": {},
     "output_type": "display_data"
    }
   ],
   "source": [
    "pwm"
   ]
  },
  {
   "cell_type": "code",
   "execution_count": 55,
   "metadata": {},
   "outputs": [
    {
     "ename": "ERROR",
     "evalue": "Error in library(TFBSTools): there is no package called ‘TFBSTools’\n",
     "output_type": "error",
     "traceback": [
      "Error in library(TFBSTools): there is no package called ‘TFBSTools’\nTraceback:\n",
      "1. library(TFBSTools)"
     ]
    }
   ],
   "source": [
    "library(TFBSTools)"
   ]
  },
  {
   "cell_type": "code",
   "execution_count": 58,
   "metadata": {},
   "outputs": [],
   "source": [
    "# write pwm matrix to file and reread \n",
    "library(yaml)"
   ]
  },
  {
   "cell_type": "code",
   "execution_count": 137,
   "metadata": {
    "collapsed": true
   },
   "outputs": [
    {
     "data": {
      "text/plain": [
       "\n",
       "       Motif name:   motif\n",
       "         Alphabet:   AA\n",
       "             Type:   PPM\n",
       "         Total IC:   31.89\n",
       "        Consensus:   CASSLGGGGNYEQYF\n",
       "     Target sites:   20229\n",
       "\n",
       "  C    A    S    S    L    G    G    G    G    N    Y    E    Q    Y F\n",
       "A 0 0.87 0.12 0.06 0.03 0.08 0.09 0.10 0.06 0.08 0.01 0.00 0.07 0.00 0\n",
       "C 1 0.00 0.00 0.01 0.00 0.00 0.00 0.00 0.00 0.00 0.00 0.00 0.00 0.00 0\n",
       "D 0 0.00 0.00 0.00 0.05 0.05 0.04 0.05 0.06 0.03 0.11 0.00 0.00 0.00 0\n",
       "E 0 0.00 0.00 0.01 0.07 0.05 0.03 0.03 0.04 0.01 0.08 0.51 0.00 0.00 0\n",
       "F 0 0.00 0.00 0.00 0.04 0.01 0.01 0.01 0.02 0.01 0.00 0.00 0.00 0.34 1\n",
       "G 0 0.00 0.00 0.01 0.04 0.22 0.29 0.42 0.33 0.12 0.11 0.08 0.00 0.00 0\n",
       "H 0 0.00 0.00 0.00 0.01 0.01 0.01 0.01 0.01 0.01 0.01 0.00 0.00 0.17 0\n",
       "I 0 0.00 0.02 0.01 0.03 0.01 0.02 0.01 0.02 0.02 0.00 0.01 0.03 0.00 0\n",
       "K 0 0.00 0.00 0.01 0.01 0.01 0.01 0.00 0.01 0.01 0.00 0.03 0.00 0.00 0\n",
       "L 0 0.00 0.00 0.00 0.23 0.08 0.06 0.03 0.05 0.03 0.01 0.00 0.21 0.00 0\n",
       "M 0 0.00 0.00 0.00 0.01 0.01 0.00 0.01 0.01 0.01 0.00 0.00 0.00 0.00 0\n",
       "N 0 0.00 0.00 0.01 0.01 0.02 0.01 0.01 0.03 0.22 0.19 0.00 0.00 0.00 0\n",
       "P 0 0.00 0.00 0.00 0.12 0.05 0.05 0.02 0.04 0.04 0.00 0.17 0.00 0.00 0\n",
       "Q 0 0.00 0.00 0.00 0.09 0.09 0.08 0.06 0.02 0.02 0.12 0.00 0.61 0.00 0\n",
       "R 0 0.00 0.00 0.08 0.07 0.08 0.08 0.07 0.04 0.02 0.00 0.00 0.00 0.00 0\n",
       "S 0 0.13 0.79 0.75 0.08 0.09 0.09 0.08 0.14 0.12 0.07 0.00 0.00 0.00 0\n",
       "T 0 0.00 0.04 0.04 0.03 0.07 0.10 0.06 0.05 0.14 0.06 0.15 0.00 0.11 0\n",
       "V 0 0.00 0.02 0.00 0.04 0.04 0.02 0.03 0.04 0.03 0.00 0.03 0.00 0.00 0\n",
       "W 0 0.00 0.01 0.00 0.01 0.02 0.01 0.01 0.01 0.01 0.00 0.00 0.00 0.00 0\n",
       "Y 0 0.00 0.00 0.00 0.04 0.01 0.00 0.01 0.02 0.08 0.23 0.00 0.08 0.37 0"
      ]
     },
     "metadata": {},
     "output_type": "display_data"
    }
   ],
   "source": [
    "motif1"
   ]
  },
  {
   "cell_type": "code",
   "execution_count": 138,
   "metadata": {},
   "outputs": [],
   "source": [
    "# create motif using universalmotif\n",
    "motif1 <- create_motif(seq1, alphabet = \"AA\")\n",
    "#PCM = convert_type(motif1, \"PWM\")\n",
    "# transform motif to matrix written \n",
    "# to temp file to read using motifStack for visualziation \n",
    "write_matrix(motif1, 'PCM', overwrite = TRUE, rownames = TRUE, header = FALSE)\n",
    "write_motifs(motif, 'PCM_motif', overwrite = TRUE)\n",
    "# convert \n",
    "PCM_table <- read.table(\"PCM\", header = FALSE, row.names = 1)\n",
    "motif_con <- read_yaml('PCM_motif')[8]\n",
    "names(PCM_table) <- strsplit(motif_con[[1]], split = \"\")[[1]]\n",
    "pcm_mat = as.matrix(PCM_table)"
   ]
  },
  {
   "cell_type": "code",
   "execution_count": 143,
   "metadata": {
    "collapsed": true
   },
   "outputs": [
    {
     "data": {
      "text/html": [
       "<table class=\"dataframe\">\n",
       "<caption>A matrix: 20 × 15 of type dbl</caption>\n",
       "<thead>\n",
       "\t<tr><th></th><th scope=col>C</th><th scope=col>A</th><th scope=col>S</th><th scope=col>S</th><th scope=col>L</th><th scope=col>G</th><th scope=col>G</th><th scope=col>G</th><th scope=col>G</th><th scope=col>N</th><th scope=col>Y</th><th scope=col>E</th><th scope=col>Q</th><th scope=col>Y</th><th scope=col>F</th></tr>\n",
       "</thead>\n",
       "<tbody>\n",
       "\t<tr><th scope=row>A</th><td>0.000000e+00</td><td>8.684562e-01</td><td>1.174057e-01</td><td>0.0580849276</td><td>0.034504919</td><td>8.418607e-02</td><td>0.0862128627</td><td>0.096247961</td><td>0.0635720995</td><td>0.0754856889</td><td>5.240002e-03</td><td>2.076227e-03</td><td>6.792229e-02</td><td>0.000000e+00</td><td>0.000000e+00</td></tr>\n",
       "\t<tr><th scope=row>C</th><td>9.996045e-01</td><td>0.000000e+00</td><td>1.977359e-04</td><td>0.0054871719</td><td>0.000000000</td><td>4.943398e-05</td><td>0.0006426418</td><td>0.000000000</td><td>0.0001977359</td><td>0.0001977359</td><td>4.943398e-05</td><td>0.000000e+00</td><td>4.943398e-05</td><td>0.000000e+00</td><td>0.000000e+00</td></tr>\n",
       "\t<tr><th scope=row>D</th><td>0.000000e+00</td><td>0.000000e+00</td><td>0.000000e+00</td><td>0.0015818874</td><td>0.051905680</td><td>5.294379e-02</td><td>0.0388056750</td><td>0.045676998</td><td>0.0612981363</td><td>0.0284739730</td><td>1.099412e-01</td><td>2.471699e-04</td><td>3.460379e-04</td><td>0.000000e+00</td><td>0.000000e+00</td></tr>\n",
       "\t<tr><th scope=row>E</th><td>0.000000e+00</td><td>0.000000e+00</td><td>0.000000e+00</td><td>0.0132977409</td><td>0.071086065</td><td>4.552870e-02</td><td>0.0266449157</td><td>0.031192842</td><td>0.0417717139</td><td>0.0108260418</td><td>7.706758e-02</td><td>5.133719e-01</td><td>6.426418e-04</td><td>0.000000e+00</td><td>0.000000e+00</td></tr>\n",
       "\t<tr><th scope=row>F</th><td>0.000000e+00</td><td>0.000000e+00</td><td>0.000000e+00</td><td>0.0003460379</td><td>0.039300015</td><td>1.156755e-02</td><td>0.0090958525</td><td>0.007513965</td><td>0.0222452914</td><td>0.0110237777</td><td>2.273963e-03</td><td>1.038114e-03</td><td>0.000000e+00</td><td>3.448515e-01</td><td>9.999506e-01</td></tr>\n",
       "\t<tr><th scope=row>G</th><td>0.000000e+00</td><td>4.943398e-05</td><td>2.273963e-03</td><td>0.0146818923</td><td>0.035543032</td><td>2.210688e-01</td><td>0.2926986010</td><td>0.415888081</td><td>0.3280933314</td><td>0.1222502348</td><td>1.056404e-01</td><td>8.023135e-02</td><td>4.943398e-05</td><td>0.000000e+00</td><td>0.000000e+00</td></tr>\n",
       "\t<tr><th scope=row>H</th><td>0.000000e+00</td><td>0.000000e+00</td><td>2.966039e-04</td><td>0.0022245291</td><td>0.009194720</td><td>5.289436e-03</td><td>0.0050422661</td><td>0.007365663</td><td>0.0101834001</td><td>0.0129022690</td><td>1.062831e-02</td><td>0.000000e+00</td><td>9.886796e-05</td><td>1.747491e-01</td><td>0.000000e+00</td></tr>\n",
       "\t<tr><th scope=row>I</th><td>0.000000e+00</td><td>0.000000e+00</td><td>1.507736e-02</td><td>0.0061792476</td><td>0.025458500</td><td>1.394038e-02</td><td>0.0173513273</td><td>0.009145286</td><td>0.0164615156</td><td>0.0152256661</td><td>1.977359e-03</td><td>5.437738e-03</td><td>3.440605e-02</td><td>0.000000e+00</td><td>0.000000e+00</td></tr>\n",
       "\t<tr><th scope=row>K</th><td>0.000000e+00</td><td>0.000000e+00</td><td>0.000000e+00</td><td>0.0112215137</td><td>0.014286420</td><td>1.008453e-02</td><td>0.0096890603</td><td>0.004943398</td><td>0.0101339661</td><td>0.0069207573</td><td>6.920757e-04</td><td>3.499926e-02</td><td>9.886796e-05</td><td>0.000000e+00</td><td>0.000000e+00</td></tr>\n",
       "\t<tr><th scope=row>L</th><td>4.943398e-05</td><td>0.000000e+00</td><td>1.483019e-03</td><td>0.0026200010</td><td>0.228681596</td><td>8.033022e-02</td><td>0.0640664393</td><td>0.034060013</td><td>0.0469622819</td><td>0.0302535963</td><td>7.118493e-03</td><td>6.426418e-04</td><td>2.051510e-01</td><td>4.943398e-05</td><td>0.000000e+00</td></tr>\n",
       "\t<tr><th scope=row>M</th><td>0.000000e+00</td><td>0.000000e+00</td><td>1.483019e-04</td><td>0.0012852835</td><td>0.013742647</td><td>6.772455e-03</td><td>0.0035098126</td><td>0.005833210</td><td>0.0140886846</td><td>0.0058332097</td><td>9.886796e-04</td><td>4.943398e-05</td><td>0.000000e+00</td><td>0.000000e+00</td><td>0.000000e+00</td></tr>\n",
       "\t<tr><th scope=row>N</th><td>0.000000e+00</td><td>0.000000e+00</td><td>4.943398e-05</td><td>0.0072667952</td><td>0.006525285</td><td>1.863661e-02</td><td>0.0062781156</td><td>0.005833210</td><td>0.0345049187</td><td>0.2184981957</td><td>1.868110e-01</td><td>0.000000e+00</td><td>0.000000e+00</td><td>4.943398e-05</td><td>0.000000e+00</td></tr>\n",
       "\t<tr><th scope=row>P</th><td>0.000000e+00</td><td>0.000000e+00</td><td>0.000000e+00</td><td>0.0043501903</td><td>0.115724949</td><td>5.333927e-02</td><td>0.0534381334</td><td>0.019526422</td><td>0.0402392605</td><td>0.0386573731</td><td>3.806417e-03</td><td>1.740076e-01</td><td>4.943398e-05</td><td>0.000000e+00</td><td>4.943398e-05</td></tr>\n",
       "\t<tr><th scope=row>Q</th><td>0.000000e+00</td><td>0.000000e+00</td><td>0.000000e+00</td><td>0.0031637748</td><td>0.094468338</td><td>9.021702e-02</td><td>0.0817143705</td><td>0.056305304</td><td>0.0175490632</td><td>0.0213060458</td><td>1.167631e-01</td><td>2.471699e-04</td><td>6.099165e-01</td><td>0.000000e+00</td><td>0.000000e+00</td></tr>\n",
       "\t<tr><th scope=row>R</th><td>0.000000e+00</td><td>2.966039e-04</td><td>1.581887e-03</td><td>0.0800336151</td><td>0.065994365</td><td>7.775965e-02</td><td>0.0807751248</td><td>0.068218894</td><td>0.0394483168</td><td>0.0201196302</td><td>3.905284e-03</td><td>1.334717e-03</td><td>1.334717e-03</td><td>0.000000e+00</td><td>0.000000e+00</td></tr>\n",
       "\t<tr><th scope=row>S</th><td>2.966039e-04</td><td>1.311978e-01</td><td>7.863958e-01</td><td>0.7470463196</td><td>0.076474368</td><td>8.814079e-02</td><td>0.0877947501</td><td>0.080280785</td><td>0.1373275990</td><td>0.1189381581</td><td>6.579663e-02</td><td>1.532453e-03</td><td>0.000000e+00</td><td>4.943398e-05</td><td>0.000000e+00</td></tr>\n",
       "\t<tr><th scope=row>T</th><td>0.000000e+00</td><td>0.000000e+00</td><td>4.320530e-02</td><td>0.0379652973</td><td>0.032923031</td><td>7.207474e-02</td><td>0.0964951308</td><td>0.064066439</td><td>0.0497305848</td><td>0.1409857136</td><td>6.248455e-02</td><td>1.548767e-01</td><td>0.000000e+00</td><td>1.094963e-01</td><td>0.000000e+00</td></tr>\n",
       "\t<tr><th scope=row>V</th><td>0.000000e+00</td><td>0.000000e+00</td><td>1.759850e-02</td><td>0.0027683029</td><td>0.035345296</td><td>4.498492e-02</td><td>0.0242720846</td><td>0.033269069</td><td>0.0402392605</td><td>0.0319837857</td><td>4.251322e-03</td><td>2.936378e-02</td><td>4.943398e-05</td><td>0.000000e+00</td><td>0.000000e+00</td></tr>\n",
       "\t<tr><th scope=row>W</th><td>0.000000e+00</td><td>0.000000e+00</td><td>1.423699e-02</td><td>0.0001483019</td><td>0.010776608</td><td>1.576944e-02</td><td>0.0108754758</td><td>0.005240002</td><td>0.0074150971</td><td>0.0132977409</td><td>6.426418e-04</td><td>4.943398e-04</td><td>1.977359e-04</td><td>0.000000e+00</td><td>0.000000e+00</td></tr>\n",
       "\t<tr><th scope=row>Y</th><td>4.943398e-05</td><td>0.000000e+00</td><td>4.943398e-05</td><td>0.0002471699</td><td>0.038064165</td><td>7.316229e-03</td><td>0.0045973602</td><td>0.009392456</td><td>0.0185377428</td><td>0.0768204063</td><td>2.339216e-01</td><td>4.943398e-05</td><td>7.968758e-02</td><td>3.707549e-01</td><td>0.000000e+00</td></tr>\n",
       "</tbody>\n",
       "</table>\n"
      ],
      "text/latex": [
       "A matrix: 20 × 15 of type dbl\n",
       "\\begin{tabular}{r|lllllllllllllll}\n",
       "  & C & A & S & S & L & G & G & G & G & N & Y & E & Q & Y & F\\\\\n",
       "\\hline\n",
       "\tA & 0.000000e+00 & 8.684562e-01 & 1.174057e-01 & 0.0580849276 & 0.034504919 & 8.418607e-02 & 0.0862128627 & 0.096247961 & 0.0635720995 & 0.0754856889 & 5.240002e-03 & 2.076227e-03 & 6.792229e-02 & 0.000000e+00 & 0.000000e+00\\\\\n",
       "\tC & 9.996045e-01 & 0.000000e+00 & 1.977359e-04 & 0.0054871719 & 0.000000000 & 4.943398e-05 & 0.0006426418 & 0.000000000 & 0.0001977359 & 0.0001977359 & 4.943398e-05 & 0.000000e+00 & 4.943398e-05 & 0.000000e+00 & 0.000000e+00\\\\\n",
       "\tD & 0.000000e+00 & 0.000000e+00 & 0.000000e+00 & 0.0015818874 & 0.051905680 & 5.294379e-02 & 0.0388056750 & 0.045676998 & 0.0612981363 & 0.0284739730 & 1.099412e-01 & 2.471699e-04 & 3.460379e-04 & 0.000000e+00 & 0.000000e+00\\\\\n",
       "\tE & 0.000000e+00 & 0.000000e+00 & 0.000000e+00 & 0.0132977409 & 0.071086065 & 4.552870e-02 & 0.0266449157 & 0.031192842 & 0.0417717139 & 0.0108260418 & 7.706758e-02 & 5.133719e-01 & 6.426418e-04 & 0.000000e+00 & 0.000000e+00\\\\\n",
       "\tF & 0.000000e+00 & 0.000000e+00 & 0.000000e+00 & 0.0003460379 & 0.039300015 & 1.156755e-02 & 0.0090958525 & 0.007513965 & 0.0222452914 & 0.0110237777 & 2.273963e-03 & 1.038114e-03 & 0.000000e+00 & 3.448515e-01 & 9.999506e-01\\\\\n",
       "\tG & 0.000000e+00 & 4.943398e-05 & 2.273963e-03 & 0.0146818923 & 0.035543032 & 2.210688e-01 & 0.2926986010 & 0.415888081 & 0.3280933314 & 0.1222502348 & 1.056404e-01 & 8.023135e-02 & 4.943398e-05 & 0.000000e+00 & 0.000000e+00\\\\\n",
       "\tH & 0.000000e+00 & 0.000000e+00 & 2.966039e-04 & 0.0022245291 & 0.009194720 & 5.289436e-03 & 0.0050422661 & 0.007365663 & 0.0101834001 & 0.0129022690 & 1.062831e-02 & 0.000000e+00 & 9.886796e-05 & 1.747491e-01 & 0.000000e+00\\\\\n",
       "\tI & 0.000000e+00 & 0.000000e+00 & 1.507736e-02 & 0.0061792476 & 0.025458500 & 1.394038e-02 & 0.0173513273 & 0.009145286 & 0.0164615156 & 0.0152256661 & 1.977359e-03 & 5.437738e-03 & 3.440605e-02 & 0.000000e+00 & 0.000000e+00\\\\\n",
       "\tK & 0.000000e+00 & 0.000000e+00 & 0.000000e+00 & 0.0112215137 & 0.014286420 & 1.008453e-02 & 0.0096890603 & 0.004943398 & 0.0101339661 & 0.0069207573 & 6.920757e-04 & 3.499926e-02 & 9.886796e-05 & 0.000000e+00 & 0.000000e+00\\\\\n",
       "\tL & 4.943398e-05 & 0.000000e+00 & 1.483019e-03 & 0.0026200010 & 0.228681596 & 8.033022e-02 & 0.0640664393 & 0.034060013 & 0.0469622819 & 0.0302535963 & 7.118493e-03 & 6.426418e-04 & 2.051510e-01 & 4.943398e-05 & 0.000000e+00\\\\\n",
       "\tM & 0.000000e+00 & 0.000000e+00 & 1.483019e-04 & 0.0012852835 & 0.013742647 & 6.772455e-03 & 0.0035098126 & 0.005833210 & 0.0140886846 & 0.0058332097 & 9.886796e-04 & 4.943398e-05 & 0.000000e+00 & 0.000000e+00 & 0.000000e+00\\\\\n",
       "\tN & 0.000000e+00 & 0.000000e+00 & 4.943398e-05 & 0.0072667952 & 0.006525285 & 1.863661e-02 & 0.0062781156 & 0.005833210 & 0.0345049187 & 0.2184981957 & 1.868110e-01 & 0.000000e+00 & 0.000000e+00 & 4.943398e-05 & 0.000000e+00\\\\\n",
       "\tP & 0.000000e+00 & 0.000000e+00 & 0.000000e+00 & 0.0043501903 & 0.115724949 & 5.333927e-02 & 0.0534381334 & 0.019526422 & 0.0402392605 & 0.0386573731 & 3.806417e-03 & 1.740076e-01 & 4.943398e-05 & 0.000000e+00 & 4.943398e-05\\\\\n",
       "\tQ & 0.000000e+00 & 0.000000e+00 & 0.000000e+00 & 0.0031637748 & 0.094468338 & 9.021702e-02 & 0.0817143705 & 0.056305304 & 0.0175490632 & 0.0213060458 & 1.167631e-01 & 2.471699e-04 & 6.099165e-01 & 0.000000e+00 & 0.000000e+00\\\\\n",
       "\tR & 0.000000e+00 & 2.966039e-04 & 1.581887e-03 & 0.0800336151 & 0.065994365 & 7.775965e-02 & 0.0807751248 & 0.068218894 & 0.0394483168 & 0.0201196302 & 3.905284e-03 & 1.334717e-03 & 1.334717e-03 & 0.000000e+00 & 0.000000e+00\\\\\n",
       "\tS & 2.966039e-04 & 1.311978e-01 & 7.863958e-01 & 0.7470463196 & 0.076474368 & 8.814079e-02 & 0.0877947501 & 0.080280785 & 0.1373275990 & 0.1189381581 & 6.579663e-02 & 1.532453e-03 & 0.000000e+00 & 4.943398e-05 & 0.000000e+00\\\\\n",
       "\tT & 0.000000e+00 & 0.000000e+00 & 4.320530e-02 & 0.0379652973 & 0.032923031 & 7.207474e-02 & 0.0964951308 & 0.064066439 & 0.0497305848 & 0.1409857136 & 6.248455e-02 & 1.548767e-01 & 0.000000e+00 & 1.094963e-01 & 0.000000e+00\\\\\n",
       "\tV & 0.000000e+00 & 0.000000e+00 & 1.759850e-02 & 0.0027683029 & 0.035345296 & 4.498492e-02 & 0.0242720846 & 0.033269069 & 0.0402392605 & 0.0319837857 & 4.251322e-03 & 2.936378e-02 & 4.943398e-05 & 0.000000e+00 & 0.000000e+00\\\\\n",
       "\tW & 0.000000e+00 & 0.000000e+00 & 1.423699e-02 & 0.0001483019 & 0.010776608 & 1.576944e-02 & 0.0108754758 & 0.005240002 & 0.0074150971 & 0.0132977409 & 6.426418e-04 & 4.943398e-04 & 1.977359e-04 & 0.000000e+00 & 0.000000e+00\\\\\n",
       "\tY & 4.943398e-05 & 0.000000e+00 & 4.943398e-05 & 0.0002471699 & 0.038064165 & 7.316229e-03 & 0.0045973602 & 0.009392456 & 0.0185377428 & 0.0768204063 & 2.339216e-01 & 4.943398e-05 & 7.968758e-02 & 3.707549e-01 & 0.000000e+00\\\\\n",
       "\\end{tabular}\n"
      ],
      "text/markdown": [
       "\n",
       "A matrix: 20 × 15 of type dbl\n",
       "\n",
       "| <!--/--> | C | A | S | S | L | G | G | G | G | N | Y | E | Q | Y | F |\n",
       "|---|---|---|---|---|---|---|---|---|---|---|---|---|---|---|---|\n",
       "| A | 0.000000e+00 | 8.684562e-01 | 1.174057e-01 | 0.0580849276 | 0.034504919 | 8.418607e-02 | 0.0862128627 | 0.096247961 | 0.0635720995 | 0.0754856889 | 5.240002e-03 | 2.076227e-03 | 6.792229e-02 | 0.000000e+00 | 0.000000e+00 |\n",
       "| C | 9.996045e-01 | 0.000000e+00 | 1.977359e-04 | 0.0054871719 | 0.000000000 | 4.943398e-05 | 0.0006426418 | 0.000000000 | 0.0001977359 | 0.0001977359 | 4.943398e-05 | 0.000000e+00 | 4.943398e-05 | 0.000000e+00 | 0.000000e+00 |\n",
       "| D | 0.000000e+00 | 0.000000e+00 | 0.000000e+00 | 0.0015818874 | 0.051905680 | 5.294379e-02 | 0.0388056750 | 0.045676998 | 0.0612981363 | 0.0284739730 | 1.099412e-01 | 2.471699e-04 | 3.460379e-04 | 0.000000e+00 | 0.000000e+00 |\n",
       "| E | 0.000000e+00 | 0.000000e+00 | 0.000000e+00 | 0.0132977409 | 0.071086065 | 4.552870e-02 | 0.0266449157 | 0.031192842 | 0.0417717139 | 0.0108260418 | 7.706758e-02 | 5.133719e-01 | 6.426418e-04 | 0.000000e+00 | 0.000000e+00 |\n",
       "| F | 0.000000e+00 | 0.000000e+00 | 0.000000e+00 | 0.0003460379 | 0.039300015 | 1.156755e-02 | 0.0090958525 | 0.007513965 | 0.0222452914 | 0.0110237777 | 2.273963e-03 | 1.038114e-03 | 0.000000e+00 | 3.448515e-01 | 9.999506e-01 |\n",
       "| G | 0.000000e+00 | 4.943398e-05 | 2.273963e-03 | 0.0146818923 | 0.035543032 | 2.210688e-01 | 0.2926986010 | 0.415888081 | 0.3280933314 | 0.1222502348 | 1.056404e-01 | 8.023135e-02 | 4.943398e-05 | 0.000000e+00 | 0.000000e+00 |\n",
       "| H | 0.000000e+00 | 0.000000e+00 | 2.966039e-04 | 0.0022245291 | 0.009194720 | 5.289436e-03 | 0.0050422661 | 0.007365663 | 0.0101834001 | 0.0129022690 | 1.062831e-02 | 0.000000e+00 | 9.886796e-05 | 1.747491e-01 | 0.000000e+00 |\n",
       "| I | 0.000000e+00 | 0.000000e+00 | 1.507736e-02 | 0.0061792476 | 0.025458500 | 1.394038e-02 | 0.0173513273 | 0.009145286 | 0.0164615156 | 0.0152256661 | 1.977359e-03 | 5.437738e-03 | 3.440605e-02 | 0.000000e+00 | 0.000000e+00 |\n",
       "| K | 0.000000e+00 | 0.000000e+00 | 0.000000e+00 | 0.0112215137 | 0.014286420 | 1.008453e-02 | 0.0096890603 | 0.004943398 | 0.0101339661 | 0.0069207573 | 6.920757e-04 | 3.499926e-02 | 9.886796e-05 | 0.000000e+00 | 0.000000e+00 |\n",
       "| L | 4.943398e-05 | 0.000000e+00 | 1.483019e-03 | 0.0026200010 | 0.228681596 | 8.033022e-02 | 0.0640664393 | 0.034060013 | 0.0469622819 | 0.0302535963 | 7.118493e-03 | 6.426418e-04 | 2.051510e-01 | 4.943398e-05 | 0.000000e+00 |\n",
       "| M | 0.000000e+00 | 0.000000e+00 | 1.483019e-04 | 0.0012852835 | 0.013742647 | 6.772455e-03 | 0.0035098126 | 0.005833210 | 0.0140886846 | 0.0058332097 | 9.886796e-04 | 4.943398e-05 | 0.000000e+00 | 0.000000e+00 | 0.000000e+00 |\n",
       "| N | 0.000000e+00 | 0.000000e+00 | 4.943398e-05 | 0.0072667952 | 0.006525285 | 1.863661e-02 | 0.0062781156 | 0.005833210 | 0.0345049187 | 0.2184981957 | 1.868110e-01 | 0.000000e+00 | 0.000000e+00 | 4.943398e-05 | 0.000000e+00 |\n",
       "| P | 0.000000e+00 | 0.000000e+00 | 0.000000e+00 | 0.0043501903 | 0.115724949 | 5.333927e-02 | 0.0534381334 | 0.019526422 | 0.0402392605 | 0.0386573731 | 3.806417e-03 | 1.740076e-01 | 4.943398e-05 | 0.000000e+00 | 4.943398e-05 |\n",
       "| Q | 0.000000e+00 | 0.000000e+00 | 0.000000e+00 | 0.0031637748 | 0.094468338 | 9.021702e-02 | 0.0817143705 | 0.056305304 | 0.0175490632 | 0.0213060458 | 1.167631e-01 | 2.471699e-04 | 6.099165e-01 | 0.000000e+00 | 0.000000e+00 |\n",
       "| R | 0.000000e+00 | 2.966039e-04 | 1.581887e-03 | 0.0800336151 | 0.065994365 | 7.775965e-02 | 0.0807751248 | 0.068218894 | 0.0394483168 | 0.0201196302 | 3.905284e-03 | 1.334717e-03 | 1.334717e-03 | 0.000000e+00 | 0.000000e+00 |\n",
       "| S | 2.966039e-04 | 1.311978e-01 | 7.863958e-01 | 0.7470463196 | 0.076474368 | 8.814079e-02 | 0.0877947501 | 0.080280785 | 0.1373275990 | 0.1189381581 | 6.579663e-02 | 1.532453e-03 | 0.000000e+00 | 4.943398e-05 | 0.000000e+00 |\n",
       "| T | 0.000000e+00 | 0.000000e+00 | 4.320530e-02 | 0.0379652973 | 0.032923031 | 7.207474e-02 | 0.0964951308 | 0.064066439 | 0.0497305848 | 0.1409857136 | 6.248455e-02 | 1.548767e-01 | 0.000000e+00 | 1.094963e-01 | 0.000000e+00 |\n",
       "| V | 0.000000e+00 | 0.000000e+00 | 1.759850e-02 | 0.0027683029 | 0.035345296 | 4.498492e-02 | 0.0242720846 | 0.033269069 | 0.0402392605 | 0.0319837857 | 4.251322e-03 | 2.936378e-02 | 4.943398e-05 | 0.000000e+00 | 0.000000e+00 |\n",
       "| W | 0.000000e+00 | 0.000000e+00 | 1.423699e-02 | 0.0001483019 | 0.010776608 | 1.576944e-02 | 0.0108754758 | 0.005240002 | 0.0074150971 | 0.0132977409 | 6.426418e-04 | 4.943398e-04 | 1.977359e-04 | 0.000000e+00 | 0.000000e+00 |\n",
       "| Y | 4.943398e-05 | 0.000000e+00 | 4.943398e-05 | 0.0002471699 | 0.038064165 | 7.316229e-03 | 0.0045973602 | 0.009392456 | 0.0185377428 | 0.0768204063 | 2.339216e-01 | 4.943398e-05 | 7.968758e-02 | 3.707549e-01 | 0.000000e+00 |\n",
       "\n"
      ],
      "text/plain": [
       "  C            A            S            S            L           G           \n",
       "A 0.000000e+00 8.684562e-01 1.174057e-01 0.0580849276 0.034504919 8.418607e-02\n",
       "C 9.996045e-01 0.000000e+00 1.977359e-04 0.0054871719 0.000000000 4.943398e-05\n",
       "D 0.000000e+00 0.000000e+00 0.000000e+00 0.0015818874 0.051905680 5.294379e-02\n",
       "E 0.000000e+00 0.000000e+00 0.000000e+00 0.0132977409 0.071086065 4.552870e-02\n",
       "F 0.000000e+00 0.000000e+00 0.000000e+00 0.0003460379 0.039300015 1.156755e-02\n",
       "G 0.000000e+00 4.943398e-05 2.273963e-03 0.0146818923 0.035543032 2.210688e-01\n",
       "H 0.000000e+00 0.000000e+00 2.966039e-04 0.0022245291 0.009194720 5.289436e-03\n",
       "I 0.000000e+00 0.000000e+00 1.507736e-02 0.0061792476 0.025458500 1.394038e-02\n",
       "K 0.000000e+00 0.000000e+00 0.000000e+00 0.0112215137 0.014286420 1.008453e-02\n",
       "L 4.943398e-05 0.000000e+00 1.483019e-03 0.0026200010 0.228681596 8.033022e-02\n",
       "M 0.000000e+00 0.000000e+00 1.483019e-04 0.0012852835 0.013742647 6.772455e-03\n",
       "N 0.000000e+00 0.000000e+00 4.943398e-05 0.0072667952 0.006525285 1.863661e-02\n",
       "P 0.000000e+00 0.000000e+00 0.000000e+00 0.0043501903 0.115724949 5.333927e-02\n",
       "Q 0.000000e+00 0.000000e+00 0.000000e+00 0.0031637748 0.094468338 9.021702e-02\n",
       "R 0.000000e+00 2.966039e-04 1.581887e-03 0.0800336151 0.065994365 7.775965e-02\n",
       "S 2.966039e-04 1.311978e-01 7.863958e-01 0.7470463196 0.076474368 8.814079e-02\n",
       "T 0.000000e+00 0.000000e+00 4.320530e-02 0.0379652973 0.032923031 7.207474e-02\n",
       "V 0.000000e+00 0.000000e+00 1.759850e-02 0.0027683029 0.035345296 4.498492e-02\n",
       "W 0.000000e+00 0.000000e+00 1.423699e-02 0.0001483019 0.010776608 1.576944e-02\n",
       "Y 4.943398e-05 0.000000e+00 4.943398e-05 0.0002471699 0.038064165 7.316229e-03\n",
       "  G            G           G            N            Y            E           \n",
       "A 0.0862128627 0.096247961 0.0635720995 0.0754856889 5.240002e-03 2.076227e-03\n",
       "C 0.0006426418 0.000000000 0.0001977359 0.0001977359 4.943398e-05 0.000000e+00\n",
       "D 0.0388056750 0.045676998 0.0612981363 0.0284739730 1.099412e-01 2.471699e-04\n",
       "E 0.0266449157 0.031192842 0.0417717139 0.0108260418 7.706758e-02 5.133719e-01\n",
       "F 0.0090958525 0.007513965 0.0222452914 0.0110237777 2.273963e-03 1.038114e-03\n",
       "G 0.2926986010 0.415888081 0.3280933314 0.1222502348 1.056404e-01 8.023135e-02\n",
       "H 0.0050422661 0.007365663 0.0101834001 0.0129022690 1.062831e-02 0.000000e+00\n",
       "I 0.0173513273 0.009145286 0.0164615156 0.0152256661 1.977359e-03 5.437738e-03\n",
       "K 0.0096890603 0.004943398 0.0101339661 0.0069207573 6.920757e-04 3.499926e-02\n",
       "L 0.0640664393 0.034060013 0.0469622819 0.0302535963 7.118493e-03 6.426418e-04\n",
       "M 0.0035098126 0.005833210 0.0140886846 0.0058332097 9.886796e-04 4.943398e-05\n",
       "N 0.0062781156 0.005833210 0.0345049187 0.2184981957 1.868110e-01 0.000000e+00\n",
       "P 0.0534381334 0.019526422 0.0402392605 0.0386573731 3.806417e-03 1.740076e-01\n",
       "Q 0.0817143705 0.056305304 0.0175490632 0.0213060458 1.167631e-01 2.471699e-04\n",
       "R 0.0807751248 0.068218894 0.0394483168 0.0201196302 3.905284e-03 1.334717e-03\n",
       "S 0.0877947501 0.080280785 0.1373275990 0.1189381581 6.579663e-02 1.532453e-03\n",
       "T 0.0964951308 0.064066439 0.0497305848 0.1409857136 6.248455e-02 1.548767e-01\n",
       "V 0.0242720846 0.033269069 0.0402392605 0.0319837857 4.251322e-03 2.936378e-02\n",
       "W 0.0108754758 0.005240002 0.0074150971 0.0132977409 6.426418e-04 4.943398e-04\n",
       "Y 0.0045973602 0.009392456 0.0185377428 0.0768204063 2.339216e-01 4.943398e-05\n",
       "  Q            Y            F           \n",
       "A 6.792229e-02 0.000000e+00 0.000000e+00\n",
       "C 4.943398e-05 0.000000e+00 0.000000e+00\n",
       "D 3.460379e-04 0.000000e+00 0.000000e+00\n",
       "E 6.426418e-04 0.000000e+00 0.000000e+00\n",
       "F 0.000000e+00 3.448515e-01 9.999506e-01\n",
       "G 4.943398e-05 0.000000e+00 0.000000e+00\n",
       "H 9.886796e-05 1.747491e-01 0.000000e+00\n",
       "I 3.440605e-02 0.000000e+00 0.000000e+00\n",
       "K 9.886796e-05 0.000000e+00 0.000000e+00\n",
       "L 2.051510e-01 4.943398e-05 0.000000e+00\n",
       "M 0.000000e+00 0.000000e+00 0.000000e+00\n",
       "N 0.000000e+00 4.943398e-05 0.000000e+00\n",
       "P 4.943398e-05 0.000000e+00 4.943398e-05\n",
       "Q 6.099165e-01 0.000000e+00 0.000000e+00\n",
       "R 1.334717e-03 0.000000e+00 0.000000e+00\n",
       "S 0.000000e+00 4.943398e-05 0.000000e+00\n",
       "T 0.000000e+00 1.094963e-01 0.000000e+00\n",
       "V 4.943398e-05 0.000000e+00 0.000000e+00\n",
       "W 1.977359e-04 0.000000e+00 0.000000e+00\n",
       "Y 7.968758e-02 3.707549e-01 0.000000e+00"
      ]
     },
     "metadata": {},
     "output_type": "display_data"
    }
   ],
   "source": [
    "pcm_mat"
   ]
  },
  {
   "cell_type": "code",
   "execution_count": 144,
   "metadata": {},
   "outputs": [
    {
     "ename": "ERROR",
     "evalue": "Error in seqLogo::seqLogo(pwm = pwm1): object 'pwm1' not found\n",
     "output_type": "error",
     "traceback": [
      "Error in seqLogo::seqLogo(pwm = pwm1): object 'pwm1' not found\nTraceback:\n",
      "1. seqLogo::seqLogo(pwm = pwm1)"
     ]
    }
   ],
   "source": [
    "seqLogo::seqLogo(pwm = pwm1)"
   ]
  },
  {
   "cell_type": "code",
   "execution_count": 142,
   "metadata": {
    "collapsed": true
   },
   "outputs": [
    {
     "data": {
      "image/png": "[encoded data removed]",
      "text/plain": [
       "plot without title"
      ]
     },
     "metadata": {
      "image/png": {
       "height": 420,
       "width": 420
      }
     },
     "output_type": "display_data"
    }
   ],
   "source": [
    "seqLogo(pcm_mat)"
   ]
  },
  {
   "cell_type": "code",
   "execution_count": null,
   "metadata": {},
   "outputs": [],
   "source": []
  },
  {
   "cell_type": "code",
   "execution_count": 95,
   "metadata": {},
   "outputs": [
    {
     "data": {
      "text/html": [
       "'CASSLLYVLGTEAFF'"
      ],
      "text/latex": [
       "'CASSLLYVLGTEAFF'"
      ],
      "text/markdown": [
       "'CASSLLYVLGTEAFF'"
      ],
      "text/plain": [
       "[1] \"CASSLLYVLGTEAFF\""
      ]
     },
     "metadata": {},
     "output_type": "display_data"
    }
   ],
   "source": [
    "motif_con[[1]]\n",
    "names(PCM_table) <- strsplit(motif_con[[1]], split = \"\")"
   ]
  },
  {
   "cell_type": "code",
   "execution_count": 102,
   "metadata": {},
   "outputs": [
    {
     "data": {
      "text/html": [
       "<style>\n",
       ".list-inline {list-style: none; margin:0; padding: 0}\n",
       ".list-inline>li {display: inline-block}\n",
       ".list-inline>li:not(:last-child)::after {content: \"\\00b7\"; padding: 0 .5ex}\n",
       "</style>\n",
       "<ol class=list-inline><li>'C'</li><li>'A'</li><li>'S'</li><li>'S'</li><li>'L'</li><li>'L'</li><li>'Y'</li><li>'V'</li><li>'L'</li><li>'G'</li><li>'T'</li><li>'E'</li><li>'A'</li><li>'F'</li><li>'F'</li></ol>\n"
      ],
      "text/latex": [
       "\\begin{enumerate*}\n",
       "\\item 'C'\n",
       "\\item 'A'\n",
       "\\item 'S'\n",
       "\\item 'S'\n",
       "\\item 'L'\n",
       "\\item 'L'\n",
       "\\item 'Y'\n",
       "\\item 'V'\n",
       "\\item 'L'\n",
       "\\item 'G'\n",
       "\\item 'T'\n",
       "\\item 'E'\n",
       "\\item 'A'\n",
       "\\item 'F'\n",
       "\\item 'F'\n",
       "\\end{enumerate*}\n"
      ],
      "text/markdown": [
       "1. 'C'\n",
       "2. 'A'\n",
       "3. 'S'\n",
       "4. 'S'\n",
       "5. 'L'\n",
       "6. 'L'\n",
       "7. 'Y'\n",
       "8. 'V'\n",
       "9. 'L'\n",
       "10. 'G'\n",
       "11. 'T'\n",
       "12. 'E'\n",
       "13. 'A'\n",
       "14. 'F'\n",
       "15. 'F'\n",
       "\n",
       "\n"
      ],
      "text/plain": [
       " [1] \"C\" \"A\" \"S\" \"S\" \"L\" \"L\" \"Y\" \"V\" \"L\" \"G\" \"T\" \"E\" \"A\" \"F\" \"F\""
      ]
     },
     "metadata": {},
     "output_type": "display_data"
    }
   ],
   "source": [
    "strsplit(motif_con[[1]], split = \"\")[[1]]"
   ]
  },
  {
   "cell_type": "code",
   "execution_count": 96,
   "metadata": {},
   "outputs": [
    {
     "data": {
      "text/html": [
       "<table class=\"dataframe\">\n",
       "<caption>A data.frame: 20 × 15</caption>\n",
       "<thead>\n",
       "\t<tr><th></th><th scope=col>c(\"C\", \"A\", \"S\", \"S\", \"L\", \"L\", \"Y\", \"V\", \"L\", \"G\", \"T\", \"E\", \"A\", \"F\", \"F\")</th><th scope=col>NA</th><th scope=col>NA</th><th scope=col>NA</th><th scope=col>NA</th><th scope=col>NA</th><th scope=col>NA</th><th scope=col>NA</th><th scope=col>NA</th><th scope=col>NA</th><th scope=col>NA</th><th scope=col>NA</th><th scope=col>NA</th><th scope=col>NA</th><th scope=col>NA</th></tr>\n",
       "\t<tr><th></th><th scope=col>&lt;int&gt;</th><th scope=col>&lt;int&gt;</th><th scope=col>&lt;int&gt;</th><th scope=col>&lt;int&gt;</th><th scope=col>&lt;int&gt;</th><th scope=col>&lt;int&gt;</th><th scope=col>&lt;int&gt;</th><th scope=col>&lt;int&gt;</th><th scope=col>&lt;int&gt;</th><th scope=col>&lt;int&gt;</th><th scope=col>&lt;int&gt;</th><th scope=col>&lt;int&gt;</th><th scope=col>&lt;int&gt;</th><th scope=col>&lt;int&gt;</th><th scope=col>&lt;int&gt;</th></tr>\n",
       "</thead>\n",
       "<tbody>\n",
       "\t<tr><th scope=row>A</th><td>  0</td><td>100</td><td>  0</td><td>  0</td><td>  0</td><td>  0</td><td>  0</td><td>  0</td><td>  0</td><td>  0</td><td>  0</td><td>  0</td><td>100</td><td>  0</td><td>  0</td></tr>\n",
       "\t<tr><th scope=row>C</th><td>100</td><td>  0</td><td>  0</td><td>  0</td><td>  0</td><td>  0</td><td>  0</td><td>  0</td><td>  0</td><td>  0</td><td>  0</td><td>  0</td><td>  0</td><td>  0</td><td>  0</td></tr>\n",
       "\t<tr><th scope=row>D</th><td>  0</td><td>  0</td><td>  0</td><td>  0</td><td>  0</td><td>  0</td><td>  0</td><td>  0</td><td>  0</td><td>  0</td><td>  0</td><td>  0</td><td>  0</td><td>  0</td><td>  0</td></tr>\n",
       "\t<tr><th scope=row>E</th><td>  0</td><td>  0</td><td>  0</td><td>  0</td><td>  0</td><td>  0</td><td>  0</td><td>  0</td><td>  0</td><td>  0</td><td>  0</td><td>100</td><td>  0</td><td>  0</td><td>  0</td></tr>\n",
       "\t<tr><th scope=row>F</th><td>  0</td><td>  0</td><td>  0</td><td>  0</td><td>  0</td><td>  0</td><td>  0</td><td>  0</td><td>  0</td><td>  0</td><td>  0</td><td>  0</td><td>  0</td><td>100</td><td>100</td></tr>\n",
       "\t<tr><th scope=row>G</th><td>  0</td><td>  0</td><td>  0</td><td>  0</td><td>  0</td><td>  0</td><td>  0</td><td>  0</td><td>  0</td><td>100</td><td>  0</td><td>  0</td><td>  0</td><td>  0</td><td>  0</td></tr>\n",
       "\t<tr><th scope=row>H</th><td>  0</td><td>  0</td><td>  0</td><td>  0</td><td>  0</td><td>  0</td><td>  0</td><td>  0</td><td>  0</td><td>  0</td><td>  0</td><td>  0</td><td>  0</td><td>  0</td><td>  0</td></tr>\n",
       "\t<tr><th scope=row>I</th><td>  0</td><td>  0</td><td>  0</td><td>  0</td><td>  0</td><td>  0</td><td>  0</td><td>  0</td><td>  0</td><td>  0</td><td>  0</td><td>  0</td><td>  0</td><td>  0</td><td>  0</td></tr>\n",
       "\t<tr><th scope=row>K</th><td>  0</td><td>  0</td><td>  0</td><td>  0</td><td>  0</td><td>  0</td><td>  0</td><td>  0</td><td>  0</td><td>  0</td><td>  0</td><td>  0</td><td>  0</td><td>  0</td><td>  0</td></tr>\n",
       "\t<tr><th scope=row>L</th><td>  0</td><td>  0</td><td>  0</td><td>  0</td><td>100</td><td>100</td><td>  0</td><td>  0</td><td>100</td><td>  0</td><td>  0</td><td>  0</td><td>  0</td><td>  0</td><td>  0</td></tr>\n",
       "\t<tr><th scope=row>M</th><td>  0</td><td>  0</td><td>  0</td><td>  0</td><td>  0</td><td>  0</td><td>  0</td><td>  0</td><td>  0</td><td>  0</td><td>  0</td><td>  0</td><td>  0</td><td>  0</td><td>  0</td></tr>\n",
       "\t<tr><th scope=row>N</th><td>  0</td><td>  0</td><td>  0</td><td>  0</td><td>  0</td><td>  0</td><td>  0</td><td>  0</td><td>  0</td><td>  0</td><td>  0</td><td>  0</td><td>  0</td><td>  0</td><td>  0</td></tr>\n",
       "\t<tr><th scope=row>P</th><td>  0</td><td>  0</td><td>  0</td><td>  0</td><td>  0</td><td>  0</td><td>  0</td><td>  0</td><td>  0</td><td>  0</td><td>  0</td><td>  0</td><td>  0</td><td>  0</td><td>  0</td></tr>\n",
       "\t<tr><th scope=row>Q</th><td>  0</td><td>  0</td><td>  0</td><td>  0</td><td>  0</td><td>  0</td><td>  0</td><td>  0</td><td>  0</td><td>  0</td><td>  0</td><td>  0</td><td>  0</td><td>  0</td><td>  0</td></tr>\n",
       "\t<tr><th scope=row>R</th><td>  0</td><td>  0</td><td>  0</td><td>  0</td><td>  0</td><td>  0</td><td>  0</td><td>  0</td><td>  0</td><td>  0</td><td>  0</td><td>  0</td><td>  0</td><td>  0</td><td>  0</td></tr>\n",
       "\t<tr><th scope=row>S</th><td>  0</td><td>  0</td><td>100</td><td>100</td><td>  0</td><td>  0</td><td>  0</td><td>  0</td><td>  0</td><td>  0</td><td>  0</td><td>  0</td><td>  0</td><td>  0</td><td>  0</td></tr>\n",
       "\t<tr><th scope=row>T</th><td>  0</td><td>  0</td><td>  0</td><td>  0</td><td>  0</td><td>  0</td><td>  0</td><td>  0</td><td>  0</td><td>  0</td><td>100</td><td>  0</td><td>  0</td><td>  0</td><td>  0</td></tr>\n",
       "\t<tr><th scope=row>V</th><td>  0</td><td>  0</td><td>  0</td><td>  0</td><td>  0</td><td>  0</td><td>  0</td><td>100</td><td>  0</td><td>  0</td><td>  0</td><td>  0</td><td>  0</td><td>  0</td><td>  0</td></tr>\n",
       "\t<tr><th scope=row>W</th><td>  0</td><td>  0</td><td>  0</td><td>  0</td><td>  0</td><td>  0</td><td>  0</td><td>  0</td><td>  0</td><td>  0</td><td>  0</td><td>  0</td><td>  0</td><td>  0</td><td>  0</td></tr>\n",
       "\t<tr><th scope=row>Y</th><td>  0</td><td>  0</td><td>  0</td><td>  0</td><td>  0</td><td>  0</td><td>100</td><td>  0</td><td>  0</td><td>  0</td><td>  0</td><td>  0</td><td>  0</td><td>  0</td><td>  0</td></tr>\n",
       "</tbody>\n",
       "</table>\n"
      ],
      "text/latex": [
       "A data.frame: 20 × 15\n",
       "\\begin{tabular}{r|lllllllllllllll}\n",
       "  & c(\"C\", \"A\", \"S\", \"S\", \"L\", \"L\", \"Y\", \"V\", \"L\", \"G\", \"T\", \"E\", \"A\", \"F\", \"F\") & NA & NA & NA & NA & NA & NA & NA & NA & NA & NA & NA & NA & NA & NA\\\\\n",
       "  & <int> & <int> & <int> & <int> & <int> & <int> & <int> & <int> & <int> & <int> & <int> & <int> & <int> & <int> & <int>\\\\\n",
       "\\hline\n",
       "\tA &   0 & 100 &   0 &   0 &   0 &   0 &   0 &   0 &   0 &   0 &   0 &   0 & 100 &   0 &   0\\\\\n",
       "\tC & 100 &   0 &   0 &   0 &   0 &   0 &   0 &   0 &   0 &   0 &   0 &   0 &   0 &   0 &   0\\\\\n",
       "\tD &   0 &   0 &   0 &   0 &   0 &   0 &   0 &   0 &   0 &   0 &   0 &   0 &   0 &   0 &   0\\\\\n",
       "\tE &   0 &   0 &   0 &   0 &   0 &   0 &   0 &   0 &   0 &   0 &   0 & 100 &   0 &   0 &   0\\\\\n",
       "\tF &   0 &   0 &   0 &   0 &   0 &   0 &   0 &   0 &   0 &   0 &   0 &   0 &   0 & 100 & 100\\\\\n",
       "\tG &   0 &   0 &   0 &   0 &   0 &   0 &   0 &   0 &   0 & 100 &   0 &   0 &   0 &   0 &   0\\\\\n",
       "\tH &   0 &   0 &   0 &   0 &   0 &   0 &   0 &   0 &   0 &   0 &   0 &   0 &   0 &   0 &   0\\\\\n",
       "\tI &   0 &   0 &   0 &   0 &   0 &   0 &   0 &   0 &   0 &   0 &   0 &   0 &   0 &   0 &   0\\\\\n",
       "\tK &   0 &   0 &   0 &   0 &   0 &   0 &   0 &   0 &   0 &   0 &   0 &   0 &   0 &   0 &   0\\\\\n",
       "\tL &   0 &   0 &   0 &   0 & 100 & 100 &   0 &   0 & 100 &   0 &   0 &   0 &   0 &   0 &   0\\\\\n",
       "\tM &   0 &   0 &   0 &   0 &   0 &   0 &   0 &   0 &   0 &   0 &   0 &   0 &   0 &   0 &   0\\\\\n",
       "\tN &   0 &   0 &   0 &   0 &   0 &   0 &   0 &   0 &   0 &   0 &   0 &   0 &   0 &   0 &   0\\\\\n",
       "\tP &   0 &   0 &   0 &   0 &   0 &   0 &   0 &   0 &   0 &   0 &   0 &   0 &   0 &   0 &   0\\\\\n",
       "\tQ &   0 &   0 &   0 &   0 &   0 &   0 &   0 &   0 &   0 &   0 &   0 &   0 &   0 &   0 &   0\\\\\n",
       "\tR &   0 &   0 &   0 &   0 &   0 &   0 &   0 &   0 &   0 &   0 &   0 &   0 &   0 &   0 &   0\\\\\n",
       "\tS &   0 &   0 & 100 & 100 &   0 &   0 &   0 &   0 &   0 &   0 &   0 &   0 &   0 &   0 &   0\\\\\n",
       "\tT &   0 &   0 &   0 &   0 &   0 &   0 &   0 &   0 &   0 &   0 & 100 &   0 &   0 &   0 &   0\\\\\n",
       "\tV &   0 &   0 &   0 &   0 &   0 &   0 &   0 & 100 &   0 &   0 &   0 &   0 &   0 &   0 &   0\\\\\n",
       "\tW &   0 &   0 &   0 &   0 &   0 &   0 &   0 &   0 &   0 &   0 &   0 &   0 &   0 &   0 &   0\\\\\n",
       "\tY &   0 &   0 &   0 &   0 &   0 &   0 & 100 &   0 &   0 &   0 &   0 &   0 &   0 &   0 &   0\\\\\n",
       "\\end{tabular}\n"
      ],
      "text/markdown": [
       "\n",
       "A data.frame: 20 × 15\n",
       "\n",
       "| <!--/--> | c(\"C\", \"A\", \"S\", \"S\", \"L\", \"L\", \"Y\", \"V\", \"L\", \"G\", \"T\", \"E\", \"A\", \"F\", \"F\") &lt;int&gt; | NA &lt;int&gt; | NA &lt;int&gt; | NA &lt;int&gt; | NA &lt;int&gt; | NA &lt;int&gt; | NA &lt;int&gt; | NA &lt;int&gt; | NA &lt;int&gt; | NA &lt;int&gt; | NA &lt;int&gt; | NA &lt;int&gt; | NA &lt;int&gt; | NA &lt;int&gt; | NA &lt;int&gt; |\n",
       "|---|---|---|---|---|---|---|---|---|---|---|---|---|---|---|---|\n",
       "| A |   0 | 100 |   0 |   0 |   0 |   0 |   0 |   0 |   0 |   0 |   0 |   0 | 100 |   0 |   0 |\n",
       "| C | 100 |   0 |   0 |   0 |   0 |   0 |   0 |   0 |   0 |   0 |   0 |   0 |   0 |   0 |   0 |\n",
       "| D |   0 |   0 |   0 |   0 |   0 |   0 |   0 |   0 |   0 |   0 |   0 |   0 |   0 |   0 |   0 |\n",
       "| E |   0 |   0 |   0 |   0 |   0 |   0 |   0 |   0 |   0 |   0 |   0 | 100 |   0 |   0 |   0 |\n",
       "| F |   0 |   0 |   0 |   0 |   0 |   0 |   0 |   0 |   0 |   0 |   0 |   0 |   0 | 100 | 100 |\n",
       "| G |   0 |   0 |   0 |   0 |   0 |   0 |   0 |   0 |   0 | 100 |   0 |   0 |   0 |   0 |   0 |\n",
       "| H |   0 |   0 |   0 |   0 |   0 |   0 |   0 |   0 |   0 |   0 |   0 |   0 |   0 |   0 |   0 |\n",
       "| I |   0 |   0 |   0 |   0 |   0 |   0 |   0 |   0 |   0 |   0 |   0 |   0 |   0 |   0 |   0 |\n",
       "| K |   0 |   0 |   0 |   0 |   0 |   0 |   0 |   0 |   0 |   0 |   0 |   0 |   0 |   0 |   0 |\n",
       "| L |   0 |   0 |   0 |   0 | 100 | 100 |   0 |   0 | 100 |   0 |   0 |   0 |   0 |   0 |   0 |\n",
       "| M |   0 |   0 |   0 |   0 |   0 |   0 |   0 |   0 |   0 |   0 |   0 |   0 |   0 |   0 |   0 |\n",
       "| N |   0 |   0 |   0 |   0 |   0 |   0 |   0 |   0 |   0 |   0 |   0 |   0 |   0 |   0 |   0 |\n",
       "| P |   0 |   0 |   0 |   0 |   0 |   0 |   0 |   0 |   0 |   0 |   0 |   0 |   0 |   0 |   0 |\n",
       "| Q |   0 |   0 |   0 |   0 |   0 |   0 |   0 |   0 |   0 |   0 |   0 |   0 |   0 |   0 |   0 |\n",
       "| R |   0 |   0 |   0 |   0 |   0 |   0 |   0 |   0 |   0 |   0 |   0 |   0 |   0 |   0 |   0 |\n",
       "| S |   0 |   0 | 100 | 100 |   0 |   0 |   0 |   0 |   0 |   0 |   0 |   0 |   0 |   0 |   0 |\n",
       "| T |   0 |   0 |   0 |   0 |   0 |   0 |   0 |   0 |   0 |   0 | 100 |   0 |   0 |   0 |   0 |\n",
       "| V |   0 |   0 |   0 |   0 |   0 |   0 |   0 | 100 |   0 |   0 |   0 |   0 |   0 |   0 |   0 |\n",
       "| W |   0 |   0 |   0 |   0 |   0 |   0 |   0 |   0 |   0 |   0 |   0 |   0 |   0 |   0 |   0 |\n",
       "| Y |   0 |   0 |   0 |   0 |   0 |   0 | 100 |   0 |   0 |   0 |   0 |   0 |   0 |   0 |   0 |\n",
       "\n"
      ],
      "text/plain": [
       "  c(\"C\", \"A\", \"S\", \"S\", \"L\", \"L\", \"Y\", \"V\", \"L\", \"G\", \"T\", \"E\", \"A\", \"F\", \"F\")\n",
       "A   0                                                                         \n",
       "C 100                                                                         \n",
       "D   0                                                                         \n",
       "E   0                                                                         \n",
       "F   0                                                                         \n",
       "G   0                                                                         \n",
       "H   0                                                                         \n",
       "I   0                                                                         \n",
       "K   0                                                                         \n",
       "L   0                                                                         \n",
       "M   0                                                                         \n",
       "N   0                                                                         \n",
       "P   0                                                                         \n",
       "Q   0                                                                         \n",
       "R   0                                                                         \n",
       "S   0                                                                         \n",
       "T   0                                                                         \n",
       "V   0                                                                         \n",
       "W   0                                                                         \n",
       "Y   0                                                                         \n",
       "  <NA> <NA> <NA> <NA> <NA> <NA> <NA> <NA> <NA> <NA> <NA> <NA> <NA> <NA>\n",
       "A 100    0    0    0    0    0    0    0    0    0    0  100    0    0 \n",
       "C   0    0    0    0    0    0    0    0    0    0    0    0    0    0 \n",
       "D   0    0    0    0    0    0    0    0    0    0    0    0    0    0 \n",
       "E   0    0    0    0    0    0    0    0    0    0  100    0    0    0 \n",
       "F   0    0    0    0    0    0    0    0    0    0    0    0  100  100 \n",
       "G   0    0    0    0    0    0    0    0  100    0    0    0    0    0 \n",
       "H   0    0    0    0    0    0    0    0    0    0    0    0    0    0 \n",
       "I   0    0    0    0    0    0    0    0    0    0    0    0    0    0 \n",
       "K   0    0    0    0    0    0    0    0    0    0    0    0    0    0 \n",
       "L   0    0    0  100  100    0    0  100    0    0    0    0    0    0 \n",
       "M   0    0    0    0    0    0    0    0    0    0    0    0    0    0 \n",
       "N   0    0    0    0    0    0    0    0    0    0    0    0    0    0 \n",
       "P   0    0    0    0    0    0    0    0    0    0    0    0    0    0 \n",
       "Q   0    0    0    0    0    0    0    0    0    0    0    0    0    0 \n",
       "R   0    0    0    0    0    0    0    0    0    0    0    0    0    0 \n",
       "S   0  100  100    0    0    0    0    0    0    0    0    0    0    0 \n",
       "T   0    0    0    0    0    0    0    0    0  100    0    0    0    0 \n",
       "V   0    0    0    0    0    0  100    0    0    0    0    0    0    0 \n",
       "W   0    0    0    0    0    0    0    0    0    0    0    0    0    0 \n",
       "Y   0    0    0    0    0  100    0    0    0    0    0    0    0    0 "
      ]
     },
     "metadata": {},
     "output_type": "display_data"
    }
   ],
   "source": [
    "PCM_table"
   ]
  },
  {
   "cell_type": "code",
   "execution_count": 77,
   "metadata": {},
   "outputs": [
    {
     "ename": "ERROR",
     "evalue": "Error in eval(expr, envir, enclos): object 'x' not found\n",
     "output_type": "error",
     "traceback": [
      "Error in eval(expr, envir, enclos): object 'x' not found\nTraceback:\n"
     ]
    }
   ],
   "source": [
    "x"
   ]
  },
  {
   "cell_type": "code",
   "execution_count": 63,
   "metadata": {},
   "outputs": [
    {
     "ename": "ERROR",
     "evalue": "Error in as.yaml(motif): Unknown emitter error\n",
     "output_type": "error",
     "traceback": [
      "Error in as.yaml(motif): Unknown emitter error\nTraceback:\n",
      "1. as.yaml(motif)"
     ]
    }
   ],
   "source": [
    "write_matrix(pwm, 'pcm0', overwrite = TRUE, rownames = TRUE, header = FALSE)\n",
    "write_motifs(motif1, 'pcm0_motif', overwrite = TRUE)"
   ]
  },
  {
   "cell_type": "code",
   "execution_count": 73,
   "metadata": {},
   "outputs": [],
   "source": [
    "# Not run:\n",
    "# writing to a file connection\n",
    "filename <- tempfile()\n",
    "con <- file(filename, \"w\")\n",
    "write_yaml(seq1, con)\n",
    "close(con)\n",
    "# using a filename to specify output file\n",
    "write_yaml(seq1, filename)"
   ]
  },
  {
   "cell_type": "code",
   "execution_count": 70,
   "metadata": {},
   "outputs": [
    {
     "ename": "ERROR",
     "evalue": "Error in as.yaml(x, ...): Unknown emitter error\n",
     "output_type": "error",
     "traceback": [
      "Error in as.yaml(x, ...): Unknown emitter error\nTraceback:\n",
      "1. write_yaml(pwm)",
      "2. as.yaml(x, ...)"
     ]
    }
   ],
   "source": [
    "write_yaml(pwm)"
   ]
  },
  {
   "cell_type": "code",
   "execution_count": 46,
   "metadata": {},
   "outputs": [
    {
     "name": "stdout",
     "output_type": "stream",
     "text": [
      "[1] \"pwm must be of class matrix or data.frame. Trying to convert\"\n"
     ]
    },
    {
     "ename": "ERROR",
     "evalue": "Error in as.vector(data): no method for coercing this S4 class to a vector\n",
     "output_type": "error",
     "traceback": [
      "Error in as.vector(data): no method for coercing this S4 class to a vector\nTraceback:\n",
      "1. seqLogo(pwm = pwm)",
      "2. preconditionTransformPWM(pwm, alphabet)",
      "3. matrix(pwm, alphabet$size, length(pwm)/alphabet$size)",
      "4. as.vector(data)"
     ]
    }
   ],
   "source": [
    "seqLogo(pwm = pwm)"
   ]
  }
 ],
 "metadata": {
  "kernelspec": {
   "display_name": "R",
   "language": "R",
   "name": "ir"
  },
  "language_info": {
   "codemirror_mode": "r",
   "file_extension": ".r",
   "mimetype": "text/x-r-source",
   "name": "R",
   "pygments_lexer": "r",
   "version": "3.6.3"
  }
 },
 "nbformat": 4,
 "nbformat_minor": 4
}

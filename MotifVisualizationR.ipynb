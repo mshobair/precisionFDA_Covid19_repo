{
 "cells": [
  {
   "cell_type": "markdown",
   "metadata": {},
   "source": [
    "# Loading data to visualize and compare sequence motifs between Baseline and Acute subjects"
   ]
  },
  {
   "cell_type": "code",
   "execution_count": 1,
   "metadata": {},
   "outputs": [
    {
     "name": "stderr",
     "output_type": "stream",
     "text": [
      "Loading required package: gsubfn\n",
      "\n",
      "Loading required package: proto\n",
      "\n"
     ]
    }
   ],
   "source": [
    "# load RSQLite to read the Transformed data\n",
    "library(RSQLite)\n",
    "library(data.table)\n",
    "library(sqldf)"
   ]
  },
  {
   "cell_type": "markdown",
   "metadata": {},
   "source": [
    "## Loading tables of junction_aa sequence data grouped by disease_stage"
   ]
  },
  {
   "cell_type": "code",
   "execution_count": 2,
   "metadata": {},
   "outputs": [],
   "source": [
    "# connection to the SQLite database with queried tables\n",
    "seq_db_path = 'disease_stage.db'\n",
    "conn <- dbConnect(RSQLite::SQLite(), seq_db_path)"
   ]
  },
  {
   "cell_type": "code",
   "execution_count": 3,
   "metadata": {},
   "outputs": [],
   "source": [
    "# get extracted tables by disease_stage\n",
    "query_1 = 'SELECT * FROM tb1'\n",
    "query_2 = 'SELECT * FROM tb2'"
   ]
  },
  {
   "cell_type": "markdown",
   "metadata": {},
   "source": [
    "## Please enter value for junction_aa_length for visualization. See below the distribution of all values with a mode ~15."
   ]
  },
  {
   "cell_type": "code",
   "execution_count": 4,
   "metadata": {},
   "outputs": [],
   "source": [
    "junction_aa_length <- 15"
   ]
  },
  {
   "cell_type": "code",
   "execution_count": 5,
   "metadata": {},
   "outputs": [],
   "source": [
    "# reloading datatables from the SQLite database\n",
    "\n",
    "getdfRows <- function(conn, query_rows){\n",
    "    \n",
    "    conn <- dbConnect( # connection to SQLite database queried tables (Baseline and Acute)\n",
    "        RSQLite::SQLite(), seq_db_path) \n",
    "    df = dbGetQuery(conn,query_rows) # saving the queried tables as dataframes \n",
    "    return(df)\n",
    "}"
   ]
  },
  {
   "cell_type": "markdown",
   "metadata": {},
   "source": [
    "Generate dataframe instance"
   ]
  },
  {
   "cell_type": "code",
   "execution_count": 6,
   "metadata": {},
   "outputs": [
    {
     "ename": "ERROR",
     "evalue": "Error: no such table: tb1\n",
     "output_type": "error",
     "traceback": [
      "Error: no such table: tb1\nTraceback:\n",
      "1. getdfRows(conn, query_1)",
      "2. dbGetQuery(conn, query_rows)   # at line 7 of file <text>",
      "3. dbGetQuery(conn, query_rows)",
      "4. .local(conn, statement, ...)",
      "5. dbSendQuery(conn, statement, ...)",
      "6. dbSendQuery(conn, statement, ...)",
      "7. .local(conn, statement, ...)",
      "8. new(\"SQLiteResult\", sql = statement, ptr = result_create(conn@ptr, \n .     statement), conn = conn, bigint = conn@bigint)",
      "9. initialize(value, ...)",
      "10. initialize(value, ...)",
      "11. result_create(conn@ptr, statement)"
     ]
    }
   ],
   "source": [
    "df1 = getdfRows(conn, query_1) # creating instance of Baseline table\n",
    "df2 = getdfRows(conn, query_2) # creating instance of Acute table"
   ]
  },
  {
   "cell_type": "code",
   "execution_count": null,
   "metadata": {},
   "outputs": [],
   "source": [
    "# delete the tables from the temporary connected SQLite database\n",
    "dbRemoveTable(conn, \"tb1\", fail_if_missing = FALSE)\n",
    "dbRemoveTable(conn, \"tb2\", fail_if_missing = FALSE)"
   ]
  },
  {
   "cell_type": "markdown",
   "metadata": {},
   "source": [
    "Clean data"
   ]
  },
  {
   "cell_type": "code",
   "execution_count": null,
   "metadata": {},
   "outputs": [],
   "source": [
    "clean_df <- function(df){\n",
    "    # Input : dataframe with specific disease_stage\n",
    "    setDT(df)  \n",
    "    cleaned_df <- df[\n",
    "        junction_aa!=\"\", ][ # remove blank sequences\n",
    "        !grepl(pattern = \"\\\\*\",junction_aa) ] # remove sequences with asterisks\n",
    "\n",
    "    return(cleaned_df)\n",
    "             }"
   ]
  },
  {
   "cell_type": "code",
   "execution_count": null,
   "metadata": {},
   "outputs": [],
   "source": [
    "df1_cleaned = clean_df(df1) # creating instance of Baseline table\n",
    "df2_cleaned = clean_df(df2) # creating instance of Acute table"
   ]
  },
  {
   "cell_type": "markdown",
   "metadata": {},
   "source": [
    "Select data"
   ]
  },
  {
   "cell_type": "markdown",
   "metadata": {},
   "source": [
    "Select junction_aa of specific length"
   ]
  },
  {
   "cell_type": "code",
   "execution_count": null,
   "metadata": {},
   "outputs": [],
   "source": [
    "# get junction_aa column from selected dataframe\n",
    "select_junction_aa <- function(selected_df){\n",
    "           \n",
    "        #    input : \"junction_aa\" cleaned dataframe\n",
    "        #    ouput : junction_aa\n",
    "    seq <- selected_df$junction_aa  \n",
    "    }"
   ]
  },
  {
   "cell_type": "code",
   "execution_count": null,
   "metadata": {},
   "outputs": [],
   "source": [
    "junction_aa_1 <- select_junction_aa(df1_cleaned)\n",
    "junction_aa_2 <- select_junction_aa(df2_cleaned)"
   ]
  },
  {
   "cell_type": "markdown",
   "metadata": {},
   "source": [
    "### plot distribution of junction_aa length\n"
   ]
  },
  {
   "cell_type": "code",
   "execution_count": null,
   "metadata": {},
   "outputs": [],
   "source": [
    "plot_hist <- function(junction_aa_1, junction_aa_2){\n",
    "    \n",
    "if (\n",
    "    (length(junction_aa_2) != 0) &\n",
    "    (length(junction_aa_1) != 0) &\n",
    "    (length(unique(nchar(junction_aa_1))) > 1)& \n",
    "    (length(unique(nchar(junction_aa_2))) > 1)\n",
    "    )\n",
    "{\n",
    "    \n",
    "    par(mfrow = c(1,2))\n",
    "    hist(nchar(junction_aa_1)\n",
    "    ,   main = \"Group 1\",\n",
    "    ,   xlab = \"length of junction_aa\",\n",
    "    ,   ylab = \"sequences_count\")\n",
    "    hist(nchar(junction_aa_2)\n",
    "    ,   main = \"Group 2\",\n",
    "    ,   xlab = \"length of junction_aa\",\n",
    "    ,   ylab = \"sequences_count\")\n",
    "}   else{\n",
    "        print(\"One of the sequence group is empty or one group is of same length, perhaps check your query in sqlite_df_fn3.ipynb notebook\")\n",
    "        print(paste0(\"Number of unique values for length of junction_aa in group1 is \",length(unique(nchar(junction_aa_1)) )))\n",
    "        print(paste0(\"Number of unique values for length of junction_aa in group2 is \",length(unique(nchar(junction_aa_1)) )))\n",
    "\n",
    "}\n",
    "    }"
   ]
  },
  {
   "cell_type": "code",
   "execution_count": null,
   "metadata": {},
   "outputs": [],
   "source": [
    "plot_hist(junction_aa_1, junction_aa_2)"
   ]
  },
  {
   "cell_type": "markdown",
   "metadata": {},
   "source": [
    "Select subset of junction_aa with specific length"
   ]
  },
  {
   "cell_type": "code",
   "execution_count": null,
   "metadata": {},
   "outputs": [],
   "source": [
    "# subset junction_aa column of specific length\n",
    "select_len <- function(junction_aa, len){\n",
    "           \n",
    "        #    input : \"junction_aa\" cleaned sequence, len length\n",
    "        #    ouput : junction_aa with specific length\n",
    "    seq <- junction_aa[nchar(junction_aa) == len] \n",
    "    return(seq)\n",
    "    }"
   ]
  },
  {
   "cell_type": "markdown",
   "metadata": {},
   "source": [
    "### pick sequences with length 15"
   ]
  },
  {
   "cell_type": "code",
   "execution_count": null,
   "metadata": {},
   "outputs": [],
   "source": [
    "baseline_seq <- select_len(junction_aa_1, junction_aa_length)\n",
    "acute_seq <- select_len(junction_aa_2, junction_aa_length)"
   ]
  },
  {
   "cell_type": "markdown",
   "metadata": {},
   "source": [
    "# Data Analysis"
   ]
  },
  {
   "cell_type": "code",
   "execution_count": null,
   "metadata": {},
   "outputs": [],
   "source": [
    "library(universalmotif)"
   ]
  },
  {
   "cell_type": "markdown",
   "metadata": {},
   "source": [
    "Visualize junction_aa as sequence motif"
   ]
  },
  {
   "cell_type": "code",
   "execution_count": null,
   "metadata": {},
   "outputs": [],
   "source": [
    "visualize_motif <- function(seq_len ){\n",
    "    # input sequence of a specific length\n",
    "    # ouput motif image\n",
    "    view_motifs(\n",
    "        convert_type(\n",
    "            create_motif(\n",
    "                seq_len, alphabet = \"AA\"),\n",
    "         , type = \"PCM\"))\n",
    "    }"
   ]
  },
  {
   "cell_type": "markdown",
   "metadata": {},
   "source": [
    "VISUALIZE \n",
    "\n",
    "**BASELINE** MOTIFS"
   ]
  },
  {
   "cell_type": "code",
   "execution_count": null,
   "metadata": {},
   "outputs": [],
   "source": [
    "visualize_motif(baseline_seq)"
   ]
  },
  {
   "cell_type": "markdown",
   "metadata": {},
   "source": [
    "VISUALIZE \n",
    "\n",
    "**Acute** MOTIFS"
   ]
  },
  {
   "cell_type": "code",
   "execution_count": null,
   "metadata": {},
   "outputs": [],
   "source": [
    "visualize_motif(acute_seq)"
   ]
  },
  {
   "cell_type": "markdown",
   "metadata": {},
   "source": [
    "# Summary \n",
    "Position 1-4 ; conserved\n",
    "Position 5: conserved\n",
    "Position 11-13 variable"
   ]
  },
  {
   "cell_type": "code",
   "execution_count": null,
   "metadata": {},
   "outputs": [],
   "source": [
    "#Iwish#library(motifStack)"
   ]
  }
 ],
 "metadata": {
  "kernelspec": {
   "display_name": "R",
   "language": "R",
   "name": "ir"
  },
  "language_info": {
   "codemirror_mode": "r",
   "file_extension": ".r",
   "mimetype": "text/x-r-source",
   "name": "R",
   "pygments_lexer": "r",
   "version": "3.6.3"
  }
 },
 "nbformat": 4,
 "nbformat_minor": 4
}
